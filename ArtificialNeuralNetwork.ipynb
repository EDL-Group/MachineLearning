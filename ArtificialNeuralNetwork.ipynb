{
 "cells": [
  {
   "cell_type": "markdown",
   "id": "beneficial-candle",
   "metadata": {},
   "source": [
    "# Artificial Neural Networks"
   ]
  },
  {
   "cell_type": "markdown",
   "id": "appreciated-practice",
   "metadata": {},
   "source": [
    "## Classification"
   ]
  },
  {
   "cell_type": "markdown",
   "id": "apparent-ebony",
   "metadata": {},
   "source": [
    "### Data"
   ]
  },
  {
   "cell_type": "code",
   "execution_count": 516,
   "id": "political-therapy",
   "metadata": {},
   "outputs": [],
   "source": [
    "import numpy as np\n",
    "import pandas as pd\n",
    "import matplotlib.pyplot as plt\n",
    "import random\n",
    "random.seed(42)\n",
    "np.random.seed(42)\n",
    "%matplotlib inline"
   ]
  },
  {
   "cell_type": "code",
   "execution_count": 517,
   "id": "sustainable-midnight",
   "metadata": {},
   "outputs": [],
   "source": [
    "from sklearn.datasets import load_iris\n",
    "iris = load_iris()\n",
    "dataset = pd.DataFrame(iris.data, columns=iris.feature_names)"
   ]
  },
  {
   "cell_type": "code",
   "execution_count": 518,
   "id": "painful-lawsuit",
   "metadata": {},
   "outputs": [
    {
     "data": {
      "text/html": [
       "<style  type=\"text/css\" >\n",
       "</style><table id=\"T_540cc_\" ><thead>    <tr>        <th class=\"blank level0\" ></th>        <th class=\"col_heading level0 col0\" >sepal length (cm)</th>        <th class=\"col_heading level0 col1\" >sepal width (cm)</th>        <th class=\"col_heading level0 col2\" >petal length (cm)</th>        <th class=\"col_heading level0 col3\" >petal width (cm)</th>    </tr></thead><tbody>\n",
       "                <tr>\n",
       "                        <th id=\"T_540cc_level0_row0\" class=\"row_heading level0 row0\" >0</th>\n",
       "                        <td id=\"T_540cc_row0_col0\" class=\"data row0 col0\" >5.100000</td>\n",
       "                        <td id=\"T_540cc_row0_col1\" class=\"data row0 col1\" >3.500000</td>\n",
       "                        <td id=\"T_540cc_row0_col2\" class=\"data row0 col2\" >1.400000</td>\n",
       "                        <td id=\"T_540cc_row0_col3\" class=\"data row0 col3\" >0.200000</td>\n",
       "            </tr>\n",
       "            <tr>\n",
       "                        <th id=\"T_540cc_level0_row1\" class=\"row_heading level0 row1\" >1</th>\n",
       "                        <td id=\"T_540cc_row1_col0\" class=\"data row1 col0\" >4.900000</td>\n",
       "                        <td id=\"T_540cc_row1_col1\" class=\"data row1 col1\" >3.000000</td>\n",
       "                        <td id=\"T_540cc_row1_col2\" class=\"data row1 col2\" >1.400000</td>\n",
       "                        <td id=\"T_540cc_row1_col3\" class=\"data row1 col3\" >0.200000</td>\n",
       "            </tr>\n",
       "            <tr>\n",
       "                        <th id=\"T_540cc_level0_row2\" class=\"row_heading level0 row2\" >2</th>\n",
       "                        <td id=\"T_540cc_row2_col0\" class=\"data row2 col0\" >4.700000</td>\n",
       "                        <td id=\"T_540cc_row2_col1\" class=\"data row2 col1\" >3.200000</td>\n",
       "                        <td id=\"T_540cc_row2_col2\" class=\"data row2 col2\" >1.300000</td>\n",
       "                        <td id=\"T_540cc_row2_col3\" class=\"data row2 col3\" >0.200000</td>\n",
       "            </tr>\n",
       "            <tr>\n",
       "                        <th id=\"T_540cc_level0_row3\" class=\"row_heading level0 row3\" >3</th>\n",
       "                        <td id=\"T_540cc_row3_col0\" class=\"data row3 col0\" >4.600000</td>\n",
       "                        <td id=\"T_540cc_row3_col1\" class=\"data row3 col1\" >3.100000</td>\n",
       "                        <td id=\"T_540cc_row3_col2\" class=\"data row3 col2\" >1.500000</td>\n",
       "                        <td id=\"T_540cc_row3_col3\" class=\"data row3 col3\" >0.200000</td>\n",
       "            </tr>\n",
       "            <tr>\n",
       "                        <th id=\"T_540cc_level0_row4\" class=\"row_heading level0 row4\" >4</th>\n",
       "                        <td id=\"T_540cc_row4_col0\" class=\"data row4 col0\" >5.000000</td>\n",
       "                        <td id=\"T_540cc_row4_col1\" class=\"data row4 col1\" >3.600000</td>\n",
       "                        <td id=\"T_540cc_row4_col2\" class=\"data row4 col2\" >1.400000</td>\n",
       "                        <td id=\"T_540cc_row4_col3\" class=\"data row4 col3\" >0.200000</td>\n",
       "            </tr>\n",
       "            <tr>\n",
       "                        <th id=\"T_540cc_level0_row5\" class=\"row_heading level0 row5\" >5</th>\n",
       "                        <td id=\"T_540cc_row5_col0\" class=\"data row5 col0\" >5.400000</td>\n",
       "                        <td id=\"T_540cc_row5_col1\" class=\"data row5 col1\" >3.900000</td>\n",
       "                        <td id=\"T_540cc_row5_col2\" class=\"data row5 col2\" >1.700000</td>\n",
       "                        <td id=\"T_540cc_row5_col3\" class=\"data row5 col3\" >0.400000</td>\n",
       "            </tr>\n",
       "            <tr>\n",
       "                        <th id=\"T_540cc_level0_row6\" class=\"row_heading level0 row6\" >6</th>\n",
       "                        <td id=\"T_540cc_row6_col0\" class=\"data row6 col0\" >4.600000</td>\n",
       "                        <td id=\"T_540cc_row6_col1\" class=\"data row6 col1\" >3.400000</td>\n",
       "                        <td id=\"T_540cc_row6_col2\" class=\"data row6 col2\" >1.400000</td>\n",
       "                        <td id=\"T_540cc_row6_col3\" class=\"data row6 col3\" >0.300000</td>\n",
       "            </tr>\n",
       "            <tr>\n",
       "                        <th id=\"T_540cc_level0_row7\" class=\"row_heading level0 row7\" >7</th>\n",
       "                        <td id=\"T_540cc_row7_col0\" class=\"data row7 col0\" >5.000000</td>\n",
       "                        <td id=\"T_540cc_row7_col1\" class=\"data row7 col1\" >3.400000</td>\n",
       "                        <td id=\"T_540cc_row7_col2\" class=\"data row7 col2\" >1.500000</td>\n",
       "                        <td id=\"T_540cc_row7_col3\" class=\"data row7 col3\" >0.200000</td>\n",
       "            </tr>\n",
       "            <tr>\n",
       "                        <th id=\"T_540cc_level0_row8\" class=\"row_heading level0 row8\" >8</th>\n",
       "                        <td id=\"T_540cc_row8_col0\" class=\"data row8 col0\" >4.400000</td>\n",
       "                        <td id=\"T_540cc_row8_col1\" class=\"data row8 col1\" >2.900000</td>\n",
       "                        <td id=\"T_540cc_row8_col2\" class=\"data row8 col2\" >1.400000</td>\n",
       "                        <td id=\"T_540cc_row8_col3\" class=\"data row8 col3\" >0.200000</td>\n",
       "            </tr>\n",
       "    </tbody></table>"
      ],
      "text/plain": [
       "<pandas.io.formats.style.Styler at 0x7f1aa09b08e0>"
      ]
     },
     "execution_count": 518,
     "metadata": {},
     "output_type": "execute_result"
    }
   ],
   "source": [
    "dataset[:9].style"
   ]
  },
  {
   "cell_type": "code",
   "execution_count": 519,
   "id": "planned-bacteria",
   "metadata": {},
   "outputs": [],
   "source": [
    "from sklearn.model_selection import train_test_split\n",
    "x_train, x_test, y_train, y_test = train_test_split(dataset, iris.target, stratify=iris.target, random_state=42)"
   ]
  },
  {
   "cell_type": "code",
   "execution_count": 520,
   "id": "hollow-evidence",
   "metadata": {},
   "outputs": [
    {
     "name": "stdout",
     "output_type": "stream",
     "text": [
      "(112, 4)\n",
      "(38, 4)\n"
     ]
    }
   ],
   "source": [
    "print(x_train.shape)\n",
    "print(x_test.shape)"
   ]
  },
  {
   "cell_type": "markdown",
   "id": "fifty-location",
   "metadata": {},
   "source": [
    "### Scikit-Learn"
   ]
  },
  {
   "cell_type": "code",
   "execution_count": 521,
   "id": "vocal-tracker",
   "metadata": {},
   "outputs": [
    {
     "data": {
      "text/plain": [
       "MLPClassifier(max_iter=1000, random_state=42)"
      ]
     },
     "execution_count": 521,
     "metadata": {},
     "output_type": "execute_result"
    }
   ],
   "source": [
    "from sklearn.neural_network import MLPClassifier\n",
    "ann = MLPClassifier(random_state=42, max_iter=1000)\n",
    "ann.fit(x_train, y_train)"
   ]
  },
  {
   "cell_type": "code",
   "execution_count": 539,
   "id": "disciplinary-kentucky",
   "metadata": {},
   "outputs": [
    {
     "name": "stdout",
     "output_type": "stream",
     "text": [
      "relu constant 5000\n"
     ]
    }
   ],
   "source": [
    "print(ann.activation, ann.learning_rate, ann.hidden_layer_sizes)"
   ]
  },
  {
   "cell_type": "code",
   "execution_count": 523,
   "id": "scientific-diploma",
   "metadata": {},
   "outputs": [],
   "source": [
    "predicted = ann.predict(x_test)"
   ]
  },
  {
   "cell_type": "code",
   "execution_count": 524,
   "id": "promotional-still",
   "metadata": {},
   "outputs": [
    {
     "name": "stdout",
     "output_type": "stream",
     "text": [
      "-------------------------------------------------------\n",
      "| pr\\lb  |   2    |   1    |   0    | total  |\u001b[36m  acc   \u001b[0m|\n",
      "-------------------------------------------------------\n",
      "|   2    |\u001b[92m   13   \u001b[0m|\u001b[91m   0    \u001b[0m|   0    |   13   |\u001b[96m  1.0   \u001b[0m|\n",
      "-------------------------------------------------------\n",
      "|   1    |\u001b[91m   0    \u001b[0m|\u001b[92m   13   \u001b[0m|   0    |   13   |\n",
      "----------------------------------------------\n",
      "| total  |   13   |   13   |   38   |\n",
      "-------------------------------------\n"
     ]
    }
   ],
   "source": [
    "from utility.utility import compare_class\n",
    "compare_class(predicted, y_test)"
   ]
  },
  {
   "cell_type": "markdown",
   "id": "electric-astrology",
   "metadata": {},
   "source": [
    "### PyTorch"
   ]
  },
  {
   "cell_type": "code",
   "execution_count": 525,
   "id": "sustained-municipality",
   "metadata": {},
   "outputs": [],
   "source": [
    "import torch\n",
    "torch.manual_seed(42)\n",
    "random.seed(42)\n",
    "np.random.seed(42)\n",
    "torch.manual_seed(42)\n",
    "device = torch.device(\"cuda:0\" if torch.cuda.is_available() else \"cpu\")"
   ]
  },
  {
   "cell_type": "code",
   "execution_count": 526,
   "id": "liable-error",
   "metadata": {},
   "outputs": [],
   "source": [
    "x_train = torch.from_numpy(x_train.to_numpy()).to(device)\n",
    "x_test = torch.from_numpy(x_test.to_numpy()).to(device)\n",
    "y_train = torch.from_numpy(y_train).to(device)\n",
    "y_test = torch.from_numpy(y_test)"
   ]
  },
  {
   "cell_type": "code",
   "execution_count": 527,
   "id": "concrete-mexico",
   "metadata": {},
   "outputs": [
    {
     "data": {
      "text/plain": [
       "Sequential(\n",
       "  (0): Linear(in_features=4, out_features=100, bias=True)\n",
       "  (1): ReLU()\n",
       "  (2): Linear(in_features=100, out_features=4, bias=True)\n",
       ")"
      ]
     },
     "execution_count": 527,
     "metadata": {},
     "output_type": "execute_result"
    }
   ],
   "source": [
    "input_size = x_train.shape[1]\n",
    "hidden_layer_size = 100\n",
    "output_size = 4\n",
    "model = torch.nn.Sequential(\n",
    "    torch.nn.Linear(input_size, hidden_layer_size),\n",
    "    torch.nn.ReLU(),\n",
    "    torch.nn.Linear(hidden_layer_size, output_size)\n",
    ")\n",
    "model.double().to(device)"
   ]
  },
  {
   "cell_type": "code",
   "execution_count": 528,
   "id": "green-lindsay",
   "metadata": {},
   "outputs": [],
   "source": [
    "criterion = torch.nn.CrossEntropyLoss()\n",
    "learning_rate = 1e-3\n",
    "optimizer = torch.optim.Adam(model.parameters(), lr=learning_rate)"
   ]
  },
  {
   "cell_type": "code",
   "execution_count": 529,
   "id": "literary-bristol",
   "metadata": {},
   "outputs": [
    {
     "name": "stdout",
     "output_type": "stream",
     "text": [
      "[EPOCH]: 999, [LOSS or MSE]: 0.058696\r"
     ]
    }
   ],
   "source": [
    "for i in range(1000):\n",
    "    y_pred = model(x_train)\n",
    "    loss = criterion(y_pred, y_train)\n",
    "    print(\"[EPOCH]: %i, [LOSS or MSE]: %.6f\" % (i, loss.item()), end='\\r')\n",
    "    optimizer.zero_grad()\n",
    "    loss.backward()\n",
    "    optimizer.step()"
   ]
  },
  {
   "cell_type": "code",
   "execution_count": 530,
   "id": "bulgarian-samoa",
   "metadata": {},
   "outputs": [
    {
     "name": "stdout",
     "output_type": "stream",
     "text": [
      "-------------------------------------------------------\n",
      "| pr\\lb  |   2    |   1    |   0    | total  |\u001b[36m  acc   \u001b[0m|\n",
      "-------------------------------------------------------\n",
      "|   2    |\u001b[92m   13   \u001b[0m|\u001b[91m   0    \u001b[0m|   0    |   13   |\u001b[96m  1.0   \u001b[0m|\n",
      "-------------------------------------------------------\n",
      "|   1    |\u001b[91m   0    \u001b[0m|\u001b[92m   13   \u001b[0m|   0    |   13   |\n",
      "----------------------------------------------\n",
      "| total  |   13   |   13   |   38   |\n",
      "-------------------------------------\n"
     ]
    }
   ],
   "source": [
    "predicted = model(x_test).cpu().max(1).indices\n",
    "compare_class(predicted, y_test)"
   ]
  },
  {
   "cell_type": "markdown",
   "id": "devoted-setting",
   "metadata": {},
   "source": [
    "## Regression"
   ]
  },
  {
   "cell_type": "markdown",
   "id": "immune-italy",
   "metadata": {},
   "source": [
    "### Data"
   ]
  },
  {
   "cell_type": "code",
   "execution_count": 531,
   "id": "governing-highlight",
   "metadata": {},
   "outputs": [
    {
     "name": "stdout",
     "output_type": "stream",
     "text": [
      "torch.Size([1000, 1]) torch.Size([1000, 1])\n"
     ]
    },
    {
     "data": {
      "text/plain": [
       "[<matplotlib.lines.Line2D at 0x7f1aa08c7f10>]"
      ]
     },
     "execution_count": 531,
     "metadata": {},
     "output_type": "execute_result"
    },
    {
     "data": {
      "image/png": "[encoded data removed]",
      "text/plain": [
       "<Figure size 432x288 with 1 Axes>"
      ]
     },
     "metadata": {
      "needs_background": "light"
     },
     "output_type": "display_data"
    }
   ],
   "source": [
    "def f_target(x):\n",
    "    return torch.max(torch.min((torch.acos(x) * x.pow(2) / (1+torch.tanh(x**2))),\n",
    "                               torch.scalar_tensor(1)),\n",
    "                     torch.scalar_tensor(0))\n",
    "X = torch.unsqueeze(torch.linspace(-0.9, 0.9, 1000), dim=1) \n",
    "y = f_target(X)\n",
    "print(X.shape, y.shape)\n",
    "plt.plot(X, y)"
   ]
  },
  {
   "cell_type": "markdown",
   "id": "challenging-boring",
   "metadata": {},
   "source": [
    "### Scikit-Learn"
   ]
  },
  {
   "cell_type": "code",
   "execution_count": 532,
   "id": "announced-proceeding",
   "metadata": {},
   "outputs": [],
   "source": [
    "from sklearn.neural_network import MLPRegressor\n",
    "ann = MLPRegressor(max_iter=1000, hidden_layer_sizes=5000)\n",
    "ann.fit(X, y.reshape(-1))\n",
    "y_pred = ann.predict(X)"
   ]
  },
  {
   "cell_type": "code",
   "execution_count": 533,
   "id": "played-credits",
   "metadata": {},
   "outputs": [
    {
     "name": "stdout",
     "output_type": "stream",
     "text": [
      "relu constant 5000\n"
     ]
    }
   ],
   "source": [
    "print(ann.activation, ann.learning_rate, ann.hidden_layer_sizes)"
   ]
  },
  {
   "cell_type": "code",
   "execution_count": 534,
   "id": "heated-athletics",
   "metadata": {},
   "outputs": [
    {
     "data": {
      "text/plain": [
       "(-1.0, 1.0, 0.0, 1.0)"
      ]
     },
     "execution_count": 534,
     "metadata": {},
     "output_type": "execute_result"
    },
    {
     "data": {
      "image/png": "[encoded data removed]",
      "text/plain": [
       "<Figure size 432x288 with 1 Axes>"
      ]
     },
     "metadata": {
      "needs_background": "light"
     },
     "output_type": "display_data"
    }
   ],
   "source": [
    "plt.plot(X, y, lw=5)\n",
    "plt.plot(X, y_pred, c='red', lw=3)\n",
    "plt.axis('equal')\n",
    "plt.axis(np.array((-1, 1, 0, 1)))"
   ]
  },
  {
   "cell_type": "markdown",
   "id": "integral-marshall",
   "metadata": {},
   "source": [
    "### PyTorch"
   ]
  },
  {
   "cell_type": "code",
   "execution_count": 535,
   "id": "inside-lighter",
   "metadata": {},
   "outputs": [
    {
     "data": {
      "text/plain": [
       "Sequential(\n",
       "  (0): Linear(in_features=1, out_features=100, bias=True)\n",
       "  (1): ReLU()\n",
       "  (2): Linear(in_features=100, out_features=1, bias=True)\n",
       ")"
      ]
     },
     "execution_count": 535,
     "metadata": {},
     "output_type": "execute_result"
    }
   ],
   "source": [
    "random.seed(42)\n",
    "np.random.seed(42)\n",
    "torch.manual_seed(42)\n",
    "input_size = 1\n",
    "hidden_layer_size = 100\n",
    "output_size = 1\n",
    "model = torch.nn.Sequential(\n",
    "    torch.nn.Linear(input_size, hidden_layer_size),\n",
    "    torch.nn.ReLU(),\n",
    "    torch.nn.Linear(hidden_layer_size, output_size)\n",
    ")\n",
    "model.to(device)"
   ]
  },
  {
   "cell_type": "code",
   "execution_count": 536,
   "id": "interim-equality",
   "metadata": {},
   "outputs": [],
   "source": [
    "criterion = torch.nn.MSELoss()\n",
    "learning_rate = 1e-3\n",
    "optimizer = torch.optim.Adam(model.parameters(), lr=learning_rate)"
   ]
  },
  {
   "cell_type": "code",
   "execution_count": 537,
   "id": "developmental-cartridge",
   "metadata": {},
   "outputs": [
    {
     "name": "stdout",
     "output_type": "stream",
     "text": [
      "[EPOCH]: 999, [LOSS or MSE]: 0.000273\r"
     ]
    }
   ],
   "source": [
    "X = X.to(device)\n",
    "y = y.to(device)\n",
    "for i in range(1000):\n",
    "    y_pred = model(X)\n",
    "    loss = criterion(y_pred, y)\n",
    "    print(\"[EPOCH]: %i, [LOSS or MSE]: %.6f\" % (i, loss.item()), end='\\r')\n",
    "    optimizer.zero_grad()\n",
    "    loss.backward()\n",
    "    optimizer.step()"
   ]
  },
  {
   "cell_type": "code",
   "execution_count": 538,
   "id": "returning-promise",
   "metadata": {},
   "outputs": [
    {
     "data": {
      "text/plain": [
       "(-1.0, 1.0, 0.0, 1.0)"
      ]
     },
     "execution_count": 538,
     "metadata": {},
     "output_type": "execute_result"
    },
    {
     "data": {
      "image/png": "[encoded data removed]",
      "text/plain": [
       "<Figure size 432x288 with 1 Axes>"
      ]
     },
     "metadata": {
      "needs_background": "light"
     },
     "output_type": "display_data"
    }
   ],
   "source": [
    "plt.plot(X.cpu().detach(), y.cpu().detach(), lw=5)\n",
    "plt.plot(X.cpu().detach(), y_pred.cpu().detach(), c='red', lw=3)\n",
    "plt.axis('equal')\n",
    "plt.axis(np.array((-1, 1, 0, 1)))"
   ]
  },
  {
   "cell_type": "code",
   "execution_count": null,
   "id": "activated-terrorist",
   "metadata": {},
   "outputs": [],
   "source": []
  }
 ],
 "metadata": {
  "kernelspec": {
   "display_name": "Python [conda env:pDL] *",
   "language": "python",
   "name": "conda-env-pDL-py"
  },
  "language_info": {
   "codemirror_mode": {
    "name": "ipython",
    "version": 3
   },
   "file_extension": ".py",
   "mimetype": "text/x-python",
   "name": "python",
   "nbconvert_exporter": "python",
   "pygments_lexer": "ipython3",
   "version": "3.8.6"
  }
 },
 "nbformat": 4,
 "nbformat_minor": 5
}
