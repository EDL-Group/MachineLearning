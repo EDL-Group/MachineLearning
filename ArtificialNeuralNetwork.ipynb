{
 "cells": [
  {
   "cell_type": "markdown",
   "id": "mediterranean-fortune",
   "metadata": {},
   "source": [
    "# Artificial Neural Networks"
   ]
  },
  {
   "cell_type": "markdown",
   "id": "welcome-kruger",
   "metadata": {},
   "source": [
    "## Scikit-Learn"
   ]
  },
  {
   "cell_type": "code",
   "execution_count": 115,
   "id": "recreational-stewart",
   "metadata": {},
   "outputs": [],
   "source": [
    "import numpy as np\n",
    "import pandas as pd\n",
    "import matplotlib.pyplot as plt\n",
    "%matplotlib inline"
   ]
  },
  {
   "cell_type": "code",
   "execution_count": 116,
   "id": "stunning-jordan",
   "metadata": {},
   "outputs": [],
   "source": [
    "from sklearn.datasets import load_iris\n",
    "iris = load_iris()\n",
    "dataset = pd.DataFrame(iris.data, columns=iris.feature_names)"
   ]
  },
  {
   "cell_type": "code",
   "execution_count": 117,
   "id": "honey-arrival",
   "metadata": {},
   "outputs": [
    {
     "data": {
      "text/html": [
       "<style  type=\"text/css\" >\n",
       "</style><table id=\"T_c8659_\" ><thead>    <tr>        <th class=\"blank level0\" ></th>        <th class=\"col_heading level0 col0\" >sepal length (cm)</th>        <th class=\"col_heading level0 col1\" >sepal width (cm)</th>        <th class=\"col_heading level0 col2\" >petal length (cm)</th>        <th class=\"col_heading level0 col3\" >petal width (cm)</th>    </tr></thead><tbody>\n",
       "                <tr>\n",
       "                        <th id=\"T_c8659_level0_row0\" class=\"row_heading level0 row0\" >0</th>\n",
       "                        <td id=\"T_c8659_row0_col0\" class=\"data row0 col0\" >5.100000</td>\n",
       "                        <td id=\"T_c8659_row0_col1\" class=\"data row0 col1\" >3.500000</td>\n",
       "                        <td id=\"T_c8659_row0_col2\" class=\"data row0 col2\" >1.400000</td>\n",
       "                        <td id=\"T_c8659_row0_col3\" class=\"data row0 col3\" >0.200000</td>\n",
       "            </tr>\n",
       "            <tr>\n",
       "                        <th id=\"T_c8659_level0_row1\" class=\"row_heading level0 row1\" >1</th>\n",
       "                        <td id=\"T_c8659_row1_col0\" class=\"data row1 col0\" >4.900000</td>\n",
       "                        <td id=\"T_c8659_row1_col1\" class=\"data row1 col1\" >3.000000</td>\n",
       "                        <td id=\"T_c8659_row1_col2\" class=\"data row1 col2\" >1.400000</td>\n",
       "                        <td id=\"T_c8659_row1_col3\" class=\"data row1 col3\" >0.200000</td>\n",
       "            </tr>\n",
       "            <tr>\n",
       "                        <th id=\"T_c8659_level0_row2\" class=\"row_heading level0 row2\" >2</th>\n",
       "                        <td id=\"T_c8659_row2_col0\" class=\"data row2 col0\" >4.700000</td>\n",
       "                        <td id=\"T_c8659_row2_col1\" class=\"data row2 col1\" >3.200000</td>\n",
       "                        <td id=\"T_c8659_row2_col2\" class=\"data row2 col2\" >1.300000</td>\n",
       "                        <td id=\"T_c8659_row2_col3\" class=\"data row2 col3\" >0.200000</td>\n",
       "            </tr>\n",
       "            <tr>\n",
       "                        <th id=\"T_c8659_level0_row3\" class=\"row_heading level0 row3\" >3</th>\n",
       "                        <td id=\"T_c8659_row3_col0\" class=\"data row3 col0\" >4.600000</td>\n",
       "                        <td id=\"T_c8659_row3_col1\" class=\"data row3 col1\" >3.100000</td>\n",
       "                        <td id=\"T_c8659_row3_col2\" class=\"data row3 col2\" >1.500000</td>\n",
       "                        <td id=\"T_c8659_row3_col3\" class=\"data row3 col3\" >0.200000</td>\n",
       "            </tr>\n",
       "            <tr>\n",
       "                        <th id=\"T_c8659_level0_row4\" class=\"row_heading level0 row4\" >4</th>\n",
       "                        <td id=\"T_c8659_row4_col0\" class=\"data row4 col0\" >5.000000</td>\n",
       "                        <td id=\"T_c8659_row4_col1\" class=\"data row4 col1\" >3.600000</td>\n",
       "                        <td id=\"T_c8659_row4_col2\" class=\"data row4 col2\" >1.400000</td>\n",
       "                        <td id=\"T_c8659_row4_col3\" class=\"data row4 col3\" >0.200000</td>\n",
       "            </tr>\n",
       "            <tr>\n",
       "                        <th id=\"T_c8659_level0_row5\" class=\"row_heading level0 row5\" >5</th>\n",
       "                        <td id=\"T_c8659_row5_col0\" class=\"data row5 col0\" >5.400000</td>\n",
       "                        <td id=\"T_c8659_row5_col1\" class=\"data row5 col1\" >3.900000</td>\n",
       "                        <td id=\"T_c8659_row5_col2\" class=\"data row5 col2\" >1.700000</td>\n",
       "                        <td id=\"T_c8659_row5_col3\" class=\"data row5 col3\" >0.400000</td>\n",
       "            </tr>\n",
       "            <tr>\n",
       "                        <th id=\"T_c8659_level0_row6\" class=\"row_heading level0 row6\" >6</th>\n",
       "                        <td id=\"T_c8659_row6_col0\" class=\"data row6 col0\" >4.600000</td>\n",
       "                        <td id=\"T_c8659_row6_col1\" class=\"data row6 col1\" >3.400000</td>\n",
       "                        <td id=\"T_c8659_row6_col2\" class=\"data row6 col2\" >1.400000</td>\n",
       "                        <td id=\"T_c8659_row6_col3\" class=\"data row6 col3\" >0.300000</td>\n",
       "            </tr>\n",
       "            <tr>\n",
       "                        <th id=\"T_c8659_level0_row7\" class=\"row_heading level0 row7\" >7</th>\n",
       "                        <td id=\"T_c8659_row7_col0\" class=\"data row7 col0\" >5.000000</td>\n",
       "                        <td id=\"T_c8659_row7_col1\" class=\"data row7 col1\" >3.400000</td>\n",
       "                        <td id=\"T_c8659_row7_col2\" class=\"data row7 col2\" >1.500000</td>\n",
       "                        <td id=\"T_c8659_row7_col3\" class=\"data row7 col3\" >0.200000</td>\n",
       "            </tr>\n",
       "            <tr>\n",
       "                        <th id=\"T_c8659_level0_row8\" class=\"row_heading level0 row8\" >8</th>\n",
       "                        <td id=\"T_c8659_row8_col0\" class=\"data row8 col0\" >4.400000</td>\n",
       "                        <td id=\"T_c8659_row8_col1\" class=\"data row8 col1\" >2.900000</td>\n",
       "                        <td id=\"T_c8659_row8_col2\" class=\"data row8 col2\" >1.400000</td>\n",
       "                        <td id=\"T_c8659_row8_col3\" class=\"data row8 col3\" >0.200000</td>\n",
       "            </tr>\n",
       "    </tbody></table>"
      ],
      "text/plain": [
       "<pandas.io.formats.style.Styler at 0x7f2809c3edf0>"
      ]
     },
     "execution_count": 117,
     "metadata": {},
     "output_type": "execute_result"
    }
   ],
   "source": [
    "dataset[:9].style"
   ]
  },
  {
   "cell_type": "code",
   "execution_count": 130,
   "id": "cultural-statistics",
   "metadata": {},
   "outputs": [],
   "source": [
    "from sklearn.model_selection import train_test_split\n",
    "x_train, x_test, y_train, y_test = train_test_split(dataset, iris.target, stratify=iris.target, random_state=42)"
   ]
  },
  {
   "cell_type": "code",
   "execution_count": 119,
   "id": "selected-primary",
   "metadata": {},
   "outputs": [
    {
     "name": "stdout",
     "output_type": "stream",
     "text": [
      "(112, 4)\n",
      "(38, 4)\n"
     ]
    }
   ],
   "source": [
    "print(x_train.shape)\n",
    "print(x_test.shape)"
   ]
  },
  {
   "cell_type": "code",
   "execution_count": 120,
   "id": "convertible-modification",
   "metadata": {},
   "outputs": [
    {
     "data": {
      "text/plain": [
       "MLPClassifier(max_iter=1000, random_state=42)"
      ]
     },
     "execution_count": 120,
     "metadata": {},
     "output_type": "execute_result"
    }
   ],
   "source": [
    "from sklearn.neural_network import MLPClassifier\n",
    "ann = MLPClassifier(random_state=42, max_iter=1000)\n",
    "ann.fit(x_train, y_train)"
   ]
  },
  {
   "cell_type": "code",
   "execution_count": 121,
   "id": "selective-ceramic",
   "metadata": {},
   "outputs": [
    {
     "name": "stdout",
     "output_type": "stream",
     "text": [
      "relu constant (100,)\n"
     ]
    }
   ],
   "source": [
    "print(ann.activation, ann.learning_rate, ann.hidden_layer_sizes)"
   ]
  },
  {
   "cell_type": "code",
   "execution_count": 122,
   "id": "narrative-stopping",
   "metadata": {},
   "outputs": [],
   "source": [
    "predicted = ann.predict(x_test)"
   ]
  },
  {
   "cell_type": "code",
   "execution_count": 123,
   "id": "painful-neutral",
   "metadata": {},
   "outputs": [
    {
     "name": "stdout",
     "output_type": "stream",
     "text": [
      "-------------------------------------------------------\n",
      "| pr\\lb  |   2    |   1    |   0    | total  |\u001b[36m  acc   \u001b[0m|\n",
      "-------------------------------------------------------\n",
      "|   2    |\u001b[92m   13   \u001b[0m|\u001b[91m   0    \u001b[0m|   0    |   13   |\u001b[96m  1.0   \u001b[0m|\n",
      "-------------------------------------------------------\n",
      "|   1    |\u001b[91m   0    \u001b[0m|\u001b[92m   13   \u001b[0m|   0    |   13   |\n",
      "----------------------------------------------\n",
      "| total  |   13   |   13   |   38   |\n",
      "-------------------------------------\n"
     ]
    }
   ],
   "source": [
    "from utility.utility import compare_class\n",
    "compare_class(predicted, y_test)"
   ]
  },
  {
   "cell_type": "markdown",
   "id": "greek-picking",
   "metadata": {},
   "source": [
    "## PyTorch"
   ]
  },
  {
   "cell_type": "code",
   "execution_count": 124,
   "id": "fresh-soccer",
   "metadata": {},
   "outputs": [],
   "source": [
    "import torch\n",
    "torch.manual_seed(42)\n",
    "device = torch.device(\"cuda:0\" if torch.cuda.is_available() else \"cpu\")"
   ]
  },
  {
   "cell_type": "code",
   "execution_count": 131,
   "id": "effective-flavor",
   "metadata": {},
   "outputs": [],
   "source": [
    "x_train = torch.from_numpy(x_train.to_numpy()).to(device)\n",
    "x_test = torch.from_numpy(x_test.to_numpy()).to(device)\n",
    "y_train = torch.from_numpy(y_train).to(device)\n",
    "y_test = torch.from_numpy(y_test)"
   ]
  },
  {
   "cell_type": "code",
   "execution_count": 126,
   "id": "conceptual-sierra",
   "metadata": {},
   "outputs": [
    {
     "data": {
      "text/plain": [
       "Sequential(\n",
       "  (0): Linear(in_features=4, out_features=100, bias=True)\n",
       "  (1): ReLU()\n",
       "  (2): Linear(in_features=100, out_features=4, bias=True)\n",
       ")"
      ]
     },
     "execution_count": 126,
     "metadata": {},
     "output_type": "execute_result"
    }
   ],
   "source": [
    "input_size = X.shape[1]\n",
    "hidden_layer_size = 100\n",
    "output_size = 4\n",
    "model = torch.nn.Sequential(\n",
    "    torch.nn.Linear(input_size, hidden_layer_size),\n",
    "    torch.nn.ReLU(),\n",
    "    torch.nn.Linear(hidden_layer_size, output_size)\n",
    ")\n",
    "model.double().to(device)"
   ]
  },
  {
   "cell_type": "code",
   "execution_count": 127,
   "id": "played-monaco",
   "metadata": {},
   "outputs": [],
   "source": [
    "criterion = torch.nn.CrossEntropyLoss()\n",
    "learning_rate = 1e-3\n",
    "optimizer = torch.optim.Adam(model.parameters(), lr=learning_rate)"
   ]
  },
  {
   "cell_type": "code",
   "execution_count": 128,
   "id": "electrical-farmer",
   "metadata": {},
   "outputs": [
    {
     "name": "stdout",
     "output_type": "stream",
     "text": [
      "[EPOCH]: 999, [LOSS or MSE]: 0.053773\r"
     ]
    }
   ],
   "source": [
    "for i in range(1000):\n",
    "    y_pred = model(X)\n",
    "    loss = criterion(y_pred, Y)\n",
    "    print(\"[EPOCH]: %i, [LOSS or MSE]: %.6f\" % (i, loss.item()), end='\\r')\n",
    "    optimizer.zero_grad()\n",
    "    loss.backward()\n",
    "    optimizer.step()"
   ]
  },
  {
   "cell_type": "code",
   "execution_count": 133,
   "id": "overhead-works",
   "metadata": {},
   "outputs": [
    {
     "name": "stdout",
     "output_type": "stream",
     "text": [
      "-------------------------------------------------------\n",
      "| pr\\lb  |   2    |   1    |   0    | total  |\u001b[36m  acc   \u001b[0m|\n",
      "-------------------------------------------------------\n",
      "|   2    |\u001b[92m   13   \u001b[0m|\u001b[91m   0    \u001b[0m|   0    |   13   |\u001b[96m  1.0   \u001b[0m|\n",
      "-------------------------------------------------------\n",
      "|   1    |\u001b[91m   0    \u001b[0m|\u001b[92m   13   \u001b[0m|   0    |   13   |\n",
      "----------------------------------------------\n",
      "| total  |   13   |   13   |   38   |\n",
      "-------------------------------------\n"
     ]
    }
   ],
   "source": [
    "predicted = model(x_test).cpu().max(1).indices\n",
    "compare_class(predicted, y_test)"
   ]
  }
 ],
 "metadata": {
  "kernelspec": {
   "display_name": "Python [conda env:pDL] *",
   "language": "python",
   "name": "conda-env-pDL-py"
  },
  "language_info": {
   "codemirror_mode": {
    "name": "ipython",
    "version": 3
   },
   "file_extension": ".py",
   "mimetype": "text/x-python",
   "name": "python",
   "nbconvert_exporter": "python",
   "pygments_lexer": "ipython3",
   "version": "3.8.6"
  }
 },
 "nbformat": 4,
 "nbformat_minor": 5
}
