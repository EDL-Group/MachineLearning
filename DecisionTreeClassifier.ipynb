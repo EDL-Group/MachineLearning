{
 "cells": [
  {
   "cell_type": "markdown",
   "id": "considerable-exhibition",
   "metadata": {},
   "source": [
    "# Decision tree classifier"
   ]
  },
  {
   "cell_type": "code",
   "execution_count": 178,
   "id": "anonymous-papua",
   "metadata": {},
   "outputs": [],
   "source": [
    "import numpy as np\n",
    "import pandas as pd\n",
    "import matplotlib.pyplot as plt\n",
    "%matplotlib inline"
   ]
  },
  {
   "cell_type": "markdown",
   "id": "lesser-indonesian",
   "metadata": {},
   "source": [
    "To start, we will create a simple dataset to illustrate how classification works and we render it. The example is slightly different from the one in the slides as sk-learn Decision tree classifier doesn't support categorical variable."
   ]
  },
  {
   "cell_type": "code",
   "execution_count": 179,
   "id": "nearby-transfer",
   "metadata": {},
   "outputs": [
    {
     "data": {
      "text/html": [
       "<style  type=\"text/css\" >\n",
       "</style><table id=\"T_18cf8_\" ><thead>    <tr>        <th class=\"blank level0\" ></th>        <th class=\"col_heading level0 col0\" >weight</th>        <th class=\"col_heading level0 col1\" >diameter</th>        <th class=\"col_heading level0 col2\" >label</th>    </tr></thead><tbody>\n",
       "                <tr>\n",
       "                        <th id=\"T_18cf8_level0_row0\" class=\"row_heading level0 row0\" >0</th>\n",
       "                        <td id=\"T_18cf8_row0_col0\" class=\"data row0 col0\" >2</td>\n",
       "                        <td id=\"T_18cf8_row0_col1\" class=\"data row0 col1\" >3</td>\n",
       "                        <td id=\"T_18cf8_row0_col2\" class=\"data row0 col2\" >mango</td>\n",
       "            </tr>\n",
       "            <tr>\n",
       "                        <th id=\"T_18cf8_level0_row1\" class=\"row_heading level0 row1\" >1</th>\n",
       "                        <td id=\"T_18cf8_row1_col0\" class=\"data row1 col0\" >3</td>\n",
       "                        <td id=\"T_18cf8_row1_col1\" class=\"data row1 col1\" >3</td>\n",
       "                        <td id=\"T_18cf8_row1_col2\" class=\"data row1 col2\" >mango</td>\n",
       "            </tr>\n",
       "            <tr>\n",
       "                        <th id=\"T_18cf8_level0_row2\" class=\"row_heading level0 row2\" >2</th>\n",
       "                        <td id=\"T_18cf8_row2_col0\" class=\"data row2 col0\" >1</td>\n",
       "                        <td id=\"T_18cf8_row2_col1\" class=\"data row2 col1\" >1</td>\n",
       "                        <td id=\"T_18cf8_row2_col2\" class=\"data row2 col2\" >grape</td>\n",
       "            </tr>\n",
       "            <tr>\n",
       "                        <th id=\"T_18cf8_level0_row3\" class=\"row_heading level0 row3\" >3</th>\n",
       "                        <td id=\"T_18cf8_row3_col0\" class=\"data row3 col0\" >1</td>\n",
       "                        <td id=\"T_18cf8_row3_col1\" class=\"data row3 col1\" >1</td>\n",
       "                        <td id=\"T_18cf8_row3_col2\" class=\"data row3 col2\" >grape</td>\n",
       "            </tr>\n",
       "            <tr>\n",
       "                        <th id=\"T_18cf8_level0_row4\" class=\"row_heading level0 row4\" >4</th>\n",
       "                        <td id=\"T_18cf8_row4_col0\" class=\"data row4 col0\" >3</td>\n",
       "                        <td id=\"T_18cf8_row4_col1\" class=\"data row4 col1\" >3</td>\n",
       "                        <td id=\"T_18cf8_row4_col2\" class=\"data row4 col2\" >lemon</td>\n",
       "            </tr>\n",
       "    </tbody></table>"
      ],
      "text/plain": [
       "<pandas.io.formats.style.Styler at 0x7fc46adf9490>"
      ]
     },
     "execution_count": 179,
     "metadata": {},
     "output_type": "execute_result"
    }
   ],
   "source": [
    "X = pd.DataFrame([['2','3','mango'],\n",
    "                    ['3','3','mango'],\n",
    "                    ['1','1','grape'],\n",
    "                    ['1','1','grape'],\n",
    "                    ['3','3','lemon']], columns=['weight','diameter','label'])\n",
    "X.style"
   ]
  },
  {
   "cell_type": "markdown",
   "id": "latter-romania",
   "metadata": {},
   "source": [
    "We want to create a decision tree to know what of fruit we have based only on the colour and the diameter."
   ]
  },
  {
   "cell_type": "code",
   "execution_count": 180,
   "id": "veterinary-marking",
   "metadata": {},
   "outputs": [
    {
     "data": {
      "text/plain": [
       "DecisionTreeClassifier(random_state=4242)"
      ]
     },
     "execution_count": 180,
     "metadata": {},
     "output_type": "execute_result"
    }
   ],
   "source": [
    "# importing the decision tree classifier algorithm function from sklearn\n",
    "from sklearn.tree import DecisionTreeClassifier\n",
    "# we create the decision tree classifier model\n",
    "# random_state is used to fix the randomness and obtain the same result every time\n",
    "decision_tree = DecisionTreeClassifier(random_state=4242)\n",
    "# we create the tree based on our dataset\n",
    "# we give it all the columns except the last one as data, and the last as label\n",
    "decision_tree.fit(X[X.columns[:-1]], X['label'])"
   ]
  },
  {
   "cell_type": "markdown",
   "id": "banner-publication",
   "metadata": {},
   "source": [
    "The tree has been built now. Before displaying it, let's take a look at some attribute of the classifier. We can obtain some information from them, like how important in the classification process each feature are. We can also get some information about the shape of our tree."
   ]
  },
  {
   "cell_type": "code",
   "execution_count": 181,
   "id": "painful-defensive",
   "metadata": {},
   "outputs": [
    {
     "name": "stdout",
     "output_type": "stream",
     "text": [
      "[0.15151515 0.84848485]\n",
      "2\n",
      "3\n"
     ]
    }
   ],
   "source": [
    "print(decision_tree.feature_importances_)\n",
    "print(decision_tree.get_depth())\n",
    "print(decision_tree.get_n_leaves())"
   ]
  },
  {
   "cell_type": "markdown",
   "id": "ideal-introduction",
   "metadata": {},
   "source": [
    "Now, let's visualise our decision tree. It is easy because scikit-learn come with a function for that, so we don't have to make it ourselves like we had to with the dendrogram last time.\n",
    "\n"
   ]
  },
  {
   "cell_type": "code",
   "execution_count": 182,
   "id": "derived-medicare",
   "metadata": {},
   "outputs": [
    {
     "data": {
      "image/png": "[encoded data removed]",
      "text/plain": [
       "<Figure size 432x288 with 1 Axes>"
      ]
     },
     "metadata": {
      "needs_background": "light"
     },
     "output_type": "display_data"
    }
   ],
   "source": [
    "# import the function to plot tree and use it\n",
    "from sklearn.tree import plot_tree\n",
    "plot_tree(decision_tree, feature_names=X.columns)\n",
    "plt.show()"
   ]
  },
  {
   "cell_type": "markdown",
   "id": "imposed-bermuda",
   "metadata": {},
   "source": [
    "We can now use our decision tree to classify other fruit. Le's try first to apply it to our data. We can observe that one of the mango was misclassified, as it goes into the last node on the right."
   ]
  },
  {
   "cell_type": "code",
   "execution_count": 183,
   "id": "nearby-empire",
   "metadata": {},
   "outputs": [
    {
     "name": "stdout",
     "output_type": "stream",
     "text": [
      "label     : ['mango' 'mango' 'grape' 'grape' 'lemon']\n",
      "prediction: ['mango' 'lemon' 'grape' 'grape' 'lemon']\n",
      "accuracy  : 0.8\n"
     ]
    }
   ],
   "source": [
    "print('label     :', X['label'].to_numpy())\n",
    "print('prediction:', decision_tree.predict(X[X.columns[:-1]]))\n",
    "print('accuracy  :', decision_tree.score(X[X.columns[:-1]], X['label']))"
   ]
  },
  {
   "cell_type": "markdown",
   "id": "illegal-corporation",
   "metadata": {},
   "source": [
    "Let's try to classify other fruit now. We create some by tweaking a bit our original fruit."
   ]
  },
  {
   "cell_type": "code",
   "execution_count": 184,
   "id": "overall-myanmar",
   "metadata": {},
   "outputs": [
    {
     "data": {
      "text/html": [
       "<style  type=\"text/css\" >\n",
       "</style><table id=\"T_57b9d_\" ><thead>    <tr>        <th class=\"blank level0\" ></th>        <th class=\"col_heading level0 col0\" >weight</th>        <th class=\"col_heading level0 col1\" >diameter</th>        <th class=\"col_heading level0 col2\" >label</th>    </tr></thead><tbody>\n",
       "                <tr>\n",
       "                        <th id=\"T_57b9d_level0_row0\" class=\"row_heading level0 row0\" >0</th>\n",
       "                        <td id=\"T_57b9d_row0_col0\" class=\"data row0 col0\" >2.5</td>\n",
       "                        <td id=\"T_57b9d_row0_col1\" class=\"data row0 col1\" >2</td>\n",
       "                        <td id=\"T_57b9d_row0_col2\" class=\"data row0 col2\" >mango</td>\n",
       "            </tr>\n",
       "            <tr>\n",
       "                        <th id=\"T_57b9d_level0_row1\" class=\"row_heading level0 row1\" >1</th>\n",
       "                        <td id=\"T_57b9d_row1_col0\" class=\"data row1 col0\" >2.9</td>\n",
       "                        <td id=\"T_57b9d_row1_col1\" class=\"data row1 col1\" >3.3</td>\n",
       "                        <td id=\"T_57b9d_row1_col2\" class=\"data row1 col2\" >mango</td>\n",
       "            </tr>\n",
       "            <tr>\n",
       "                        <th id=\"T_57b9d_level0_row2\" class=\"row_heading level0 row2\" >2</th>\n",
       "                        <td id=\"T_57b9d_row2_col0\" class=\"data row2 col0\" >1.3</td>\n",
       "                        <td id=\"T_57b9d_row2_col1\" class=\"data row2 col1\" >1</td>\n",
       "                        <td id=\"T_57b9d_row2_col2\" class=\"data row2 col2\" >grape</td>\n",
       "            </tr>\n",
       "            <tr>\n",
       "                        <th id=\"T_57b9d_level0_row3\" class=\"row_heading level0 row3\" >3</th>\n",
       "                        <td id=\"T_57b9d_row3_col0\" class=\"data row3 col0\" >1</td>\n",
       "                        <td id=\"T_57b9d_row3_col1\" class=\"data row3 col1\" >1.6</td>\n",
       "                        <td id=\"T_57b9d_row3_col2\" class=\"data row3 col2\" >grape</td>\n",
       "            </tr>\n",
       "            <tr>\n",
       "                        <th id=\"T_57b9d_level0_row4\" class=\"row_heading level0 row4\" >4</th>\n",
       "                        <td id=\"T_57b9d_row4_col0\" class=\"data row4 col0\" >3.1</td>\n",
       "                        <td id=\"T_57b9d_row4_col1\" class=\"data row4 col1\" >2.6</td>\n",
       "                        <td id=\"T_57b9d_row4_col2\" class=\"data row4 col2\" >lemon</td>\n",
       "            </tr>\n",
       "    </tbody></table>"
      ],
      "text/plain": [
       "<pandas.io.formats.style.Styler at 0x7fc46ae05df0>"
      ]
     },
     "execution_count": 184,
     "metadata": {},
     "output_type": "execute_result"
    }
   ],
   "source": [
    "X2 = pd.DataFrame([['2.5','2','mango'],\n",
    "                    ['2.9','3.3','mango'],\n",
    "                    ['1.3','1','grape'],\n",
    "                    ['1','1.6','grape'],\n",
    "                    ['3.1','2.6','lemon']], columns=['weight','diameter','label'])\n",
    "X2.style"
   ]
  },
  {
   "cell_type": "markdown",
   "id": "consistent-cattle",
   "metadata": {},
   "source": [
    "And now we classify those new fruits"
   ]
  },
  {
   "cell_type": "code",
   "execution_count": 185,
   "id": "nervous-salem",
   "metadata": {},
   "outputs": [
    {
     "name": "stdout",
     "output_type": "stream",
     "text": [
      "label     : ['mango' 'mango' 'grape' 'grape' 'lemon']\n",
      "prediction: ['grape' 'lemon' 'grape' 'grape' 'lemon']\n",
      "accuracy  : 0.6\n"
     ]
    }
   ],
   "source": [
    "print('label     :', X2['label'].to_numpy())\n",
    "print('prediction:', decision_tree.predict(X2[X2.columns[:-1]]))\n",
    "print('accuracy  :', decision_tree.score(X2[X2.columns[:-1]], X2['label']))"
   ]
  },
  {
   "cell_type": "markdown",
   "id": "dedicated-sphere",
   "metadata": {},
   "source": [
    "We have some misclassified fruit. To ascert the certainty of our model, we can ask the tree to give us the probability for each classification."
   ]
  },
  {
   "cell_type": "code",
   "execution_count": 186,
   "id": "automotive-session",
   "metadata": {},
   "outputs": [
    {
     "data": {
      "text/html": [
       "<div>\n",
       "<style scoped>\n",
       "    .dataframe tbody tr th:only-of-type {\n",
       "        vertical-align: middle;\n",
       "    }\n",
       "\n",
       "    .dataframe tbody tr th {\n",
       "        vertical-align: top;\n",
       "    }\n",
       "\n",
       "    .dataframe thead th {\n",
       "        text-align: right;\n",
       "    }\n",
       "</style>\n",
       "<table border=\"1\" class=\"dataframe\">\n",
       "  <thead>\n",
       "    <tr style=\"text-align: right;\">\n",
       "      <th></th>\n",
       "      <th>grape</th>\n",
       "      <th>lemon</th>\n",
       "      <th>mango</th>\n",
       "    </tr>\n",
       "  </thead>\n",
       "  <tbody>\n",
       "    <tr>\n",
       "      <th>0</th>\n",
       "      <td>1.0</td>\n",
       "      <td>0.0</td>\n",
       "      <td>0.0</td>\n",
       "    </tr>\n",
       "    <tr>\n",
       "      <th>1</th>\n",
       "      <td>0.0</td>\n",
       "      <td>0.5</td>\n",
       "      <td>0.5</td>\n",
       "    </tr>\n",
       "    <tr>\n",
       "      <th>2</th>\n",
       "      <td>1.0</td>\n",
       "      <td>0.0</td>\n",
       "      <td>0.0</td>\n",
       "    </tr>\n",
       "    <tr>\n",
       "      <th>3</th>\n",
       "      <td>1.0</td>\n",
       "      <td>0.0</td>\n",
       "      <td>0.0</td>\n",
       "    </tr>\n",
       "    <tr>\n",
       "      <th>4</th>\n",
       "      <td>0.0</td>\n",
       "      <td>0.5</td>\n",
       "      <td>0.5</td>\n",
       "    </tr>\n",
       "  </tbody>\n",
       "</table>\n",
       "</div>"
      ],
      "text/plain": [
       "   grape  lemon  mango\n",
       "0    1.0    0.0    0.0\n",
       "1    0.0    0.5    0.5\n",
       "2    1.0    0.0    0.0\n",
       "3    1.0    0.0    0.0\n",
       "4    0.0    0.5    0.5"
      ]
     },
     "execution_count": 186,
     "metadata": {},
     "output_type": "execute_result"
    }
   ],
   "source": [
    "pd.DataFrame(decision_tree.predict_proba(X2[X2.columns[:-1]]), columns=decision_tree.classes_)"
   ]
  },
  {
   "cell_type": "markdown",
   "id": "tough-county",
   "metadata": {},
   "source": [
    "## Using a dataset\n",
    "\n",
    "We are now familiar with the method, so we can apply it on a big dataset. We will import the iris dataset."
   ]
  },
  {
   "cell_type": "code",
   "execution_count": 204,
   "id": "parallel-pilot",
   "metadata": {},
   "outputs": [],
   "source": [
    "from sklearn.datasets import load_iris\n",
    "iris = load_iris()\n",
    "dataset = pd.DataFrame(iris.data, columns=iris.feature_names)"
   ]
  },
  {
   "cell_type": "markdown",
   "id": "opposed-verse",
   "metadata": {},
   "source": [
    "Let's visualise the first 9 rows"
   ]
  },
  {
   "cell_type": "code",
   "execution_count": 212,
   "id": "unusual-violence",
   "metadata": {},
   "outputs": [
    {
     "data": {
      "text/html": [
       "<style  type=\"text/css\" >\n",
       "</style><table id=\"T_fff61_\" ><thead>    <tr>        <th class=\"blank level0\" ></th>        <th class=\"col_heading level0 col0\" >sepal length (cm)</th>        <th class=\"col_heading level0 col1\" >sepal width (cm)</th>        <th class=\"col_heading level0 col2\" >petal length (cm)</th>        <th class=\"col_heading level0 col3\" >petal width (cm)</th>    </tr></thead><tbody>\n",
       "                <tr>\n",
       "                        <th id=\"T_fff61_level0_row0\" class=\"row_heading level0 row0\" >0</th>\n",
       "                        <td id=\"T_fff61_row0_col0\" class=\"data row0 col0\" >5.100000</td>\n",
       "                        <td id=\"T_fff61_row0_col1\" class=\"data row0 col1\" >3.500000</td>\n",
       "                        <td id=\"T_fff61_row0_col2\" class=\"data row0 col2\" >1.400000</td>\n",
       "                        <td id=\"T_fff61_row0_col3\" class=\"data row0 col3\" >0.200000</td>\n",
       "            </tr>\n",
       "            <tr>\n",
       "                        <th id=\"T_fff61_level0_row1\" class=\"row_heading level0 row1\" >1</th>\n",
       "                        <td id=\"T_fff61_row1_col0\" class=\"data row1 col0\" >4.900000</td>\n",
       "                        <td id=\"T_fff61_row1_col1\" class=\"data row1 col1\" >3.000000</td>\n",
       "                        <td id=\"T_fff61_row1_col2\" class=\"data row1 col2\" >1.400000</td>\n",
       "                        <td id=\"T_fff61_row1_col3\" class=\"data row1 col3\" >0.200000</td>\n",
       "            </tr>\n",
       "            <tr>\n",
       "                        <th id=\"T_fff61_level0_row2\" class=\"row_heading level0 row2\" >2</th>\n",
       "                        <td id=\"T_fff61_row2_col0\" class=\"data row2 col0\" >4.700000</td>\n",
       "                        <td id=\"T_fff61_row2_col1\" class=\"data row2 col1\" >3.200000</td>\n",
       "                        <td id=\"T_fff61_row2_col2\" class=\"data row2 col2\" >1.300000</td>\n",
       "                        <td id=\"T_fff61_row2_col3\" class=\"data row2 col3\" >0.200000</td>\n",
       "            </tr>\n",
       "            <tr>\n",
       "                        <th id=\"T_fff61_level0_row3\" class=\"row_heading level0 row3\" >3</th>\n",
       "                        <td id=\"T_fff61_row3_col0\" class=\"data row3 col0\" >4.600000</td>\n",
       "                        <td id=\"T_fff61_row3_col1\" class=\"data row3 col1\" >3.100000</td>\n",
       "                        <td id=\"T_fff61_row3_col2\" class=\"data row3 col2\" >1.500000</td>\n",
       "                        <td id=\"T_fff61_row3_col3\" class=\"data row3 col3\" >0.200000</td>\n",
       "            </tr>\n",
       "            <tr>\n",
       "                        <th id=\"T_fff61_level0_row4\" class=\"row_heading level0 row4\" >4</th>\n",
       "                        <td id=\"T_fff61_row4_col0\" class=\"data row4 col0\" >5.000000</td>\n",
       "                        <td id=\"T_fff61_row4_col1\" class=\"data row4 col1\" >3.600000</td>\n",
       "                        <td id=\"T_fff61_row4_col2\" class=\"data row4 col2\" >1.400000</td>\n",
       "                        <td id=\"T_fff61_row4_col3\" class=\"data row4 col3\" >0.200000</td>\n",
       "            </tr>\n",
       "            <tr>\n",
       "                        <th id=\"T_fff61_level0_row5\" class=\"row_heading level0 row5\" >5</th>\n",
       "                        <td id=\"T_fff61_row5_col0\" class=\"data row5 col0\" >5.400000</td>\n",
       "                        <td id=\"T_fff61_row5_col1\" class=\"data row5 col1\" >3.900000</td>\n",
       "                        <td id=\"T_fff61_row5_col2\" class=\"data row5 col2\" >1.700000</td>\n",
       "                        <td id=\"T_fff61_row5_col3\" class=\"data row5 col3\" >0.400000</td>\n",
       "            </tr>\n",
       "            <tr>\n",
       "                        <th id=\"T_fff61_level0_row6\" class=\"row_heading level0 row6\" >6</th>\n",
       "                        <td id=\"T_fff61_row6_col0\" class=\"data row6 col0\" >4.600000</td>\n",
       "                        <td id=\"T_fff61_row6_col1\" class=\"data row6 col1\" >3.400000</td>\n",
       "                        <td id=\"T_fff61_row6_col2\" class=\"data row6 col2\" >1.400000</td>\n",
       "                        <td id=\"T_fff61_row6_col3\" class=\"data row6 col3\" >0.300000</td>\n",
       "            </tr>\n",
       "            <tr>\n",
       "                        <th id=\"T_fff61_level0_row7\" class=\"row_heading level0 row7\" >7</th>\n",
       "                        <td id=\"T_fff61_row7_col0\" class=\"data row7 col0\" >5.000000</td>\n",
       "                        <td id=\"T_fff61_row7_col1\" class=\"data row7 col1\" >3.400000</td>\n",
       "                        <td id=\"T_fff61_row7_col2\" class=\"data row7 col2\" >1.500000</td>\n",
       "                        <td id=\"T_fff61_row7_col3\" class=\"data row7 col3\" >0.200000</td>\n",
       "            </tr>\n",
       "            <tr>\n",
       "                        <th id=\"T_fff61_level0_row8\" class=\"row_heading level0 row8\" >8</th>\n",
       "                        <td id=\"T_fff61_row8_col0\" class=\"data row8 col0\" >4.400000</td>\n",
       "                        <td id=\"T_fff61_row8_col1\" class=\"data row8 col1\" >2.900000</td>\n",
       "                        <td id=\"T_fff61_row8_col2\" class=\"data row8 col2\" >1.400000</td>\n",
       "                        <td id=\"T_fff61_row8_col3\" class=\"data row8 col3\" >0.200000</td>\n",
       "            </tr>\n",
       "    </tbody></table>"
      ],
      "text/plain": [
       "<pandas.io.formats.style.Styler at 0x7fc463043250>"
      ]
     },
     "execution_count": 212,
     "metadata": {},
     "output_type": "execute_result"
    }
   ],
   "source": [
    "# We can visualise the dataset\n",
    "dataset[:9].style"
   ]
  },
  {
   "cell_type": "markdown",
   "id": "furnished-spank",
   "metadata": {},
   "source": []
  },
  {
   "cell_type": "code",
   "execution_count": 213,
   "id": "organized-serum",
   "metadata": {},
   "outputs": [
    {
     "data": {
      "text/plain": [
       "DecisionTreeClassifier(random_state=4242)"
      ]
     },
     "execution_count": 213,
     "metadata": {},
     "output_type": "execute_result"
    }
   ],
   "source": [
    "# we create the decision tree classifier model\n",
    "# random_state is used to fix the randomness and obtain the same result every time\n",
    "decision_tree = DecisionTreeClassifier(random_state=4242)\n",
    "# we create the tree based on our dataset\n",
    "# we give it all the columns except the last one as data, and the last as label\n",
    "decision_tree.fit(dataset, iris.target)"
   ]
  },
  {
   "cell_type": "code",
   "execution_count": 214,
   "id": "spoken-plain",
   "metadata": {},
   "outputs": [
    {
     "name": "stdout",
     "output_type": "stream",
     "text": [
      "[0.01333333 0.         0.06405596 0.92261071]\n",
      "5\n",
      "9\n"
     ]
    }
   ],
   "source": [
    "print(decision_tree.feature_importances_)\n",
    "print(decision_tree.get_depth())\n",
    "print(decision_tree.get_n_leaves())"
   ]
  },
  {
   "cell_type": "code",
   "execution_count": 221,
   "id": "mechanical-cooperation",
   "metadata": {},
   "outputs": [
    {
     "data": {
      "image/png": "[encoded data removed]",
      "text/plain": [
       "<Figure size 1080x1080 with 1 Axes>"
      ]
     },
     "metadata": {
      "needs_background": "light"
     },
     "output_type": "display_data"
    }
   ],
   "source": [
    "# import the function to plot tree and use it\n",
    "plt.figure(figsize=(15,15))\n",
    "plot_tree(decision_tree, feature_names=dataset.columns)\n",
    "plt.show()"
   ]
  }
 ],
 "metadata": {
  "kernelspec": {
   "display_name": "Python [conda env:pDL] *",
   "language": "python",
   "name": "conda-env-pDL-py"
  },
  "language_info": {
   "codemirror_mode": {
    "name": "ipython",
    "version": 3
   },
   "file_extension": ".py",
   "mimetype": "text/x-python",
   "name": "python",
   "nbconvert_exporter": "python",
   "pygments_lexer": "ipython3",
   "version": "3.8.6"
  }
 },
 "nbformat": 4,
 "nbformat_minor": 5
}
