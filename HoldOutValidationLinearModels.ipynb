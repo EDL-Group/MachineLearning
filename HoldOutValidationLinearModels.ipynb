{
 "cells": [
  {
   "cell_type": "markdown",
   "metadata": {},
   "source": [
    "# VALIDATION IN MACHINE LEARNING\n",
    "In this notebook we will describe the code required to divide our data into training and testing, create a simple linear regreesion model, fit the model to the training data, calculate the error of the model (MSE) using the testing data, and visualise the final model."
   ]
  },
  {
   "cell_type": "markdown",
   "metadata": {},
   "source": [
    "## Pre-processing\n",
    "The next cells are a repetition of what we did last week.\n",
    "### 1.- Import libraries"
   ]
  },
  {
   "cell_type": "code",
   "execution_count": 1,
   "metadata": {},
   "outputs": [],
   "source": [
    "# We would require again the following libraries to manage our dataset\n",
    "# Numpy: used for large, multi-dimensional arrays and matrices, and for high-level mathematical functions\n",
    "# Pandas: used for data manipulation and analysis\n",
    "import numpy as np\n",
    "import pandas as pd"
   ]
  },
  {
   "cell_type": "code",
   "execution_count": 2,
   "metadata": {},
   "outputs": [],
   "source": [
    "# We will use a new library for machine learning, Scikit-learn. \n",
    "# This library allows us to implement easily machine learning models and operations over them. \n",
    "# This time we will use the predefined function to scale (min-max normalisation) our data\n",
    "from sklearn.preprocessing import MinMaxScaler"
   ]
  },
  {
   "cell_type": "code",
   "execution_count": 3,
   "metadata": {},
   "outputs": [],
   "source": [
    "# we will use the same library to divide our dataset in train and testing\n",
    "from sklearn.model_selection import train_test_split"
   ]
  },
  {
   "cell_type": "code",
   "execution_count": 4,
   "metadata": {},
   "outputs": [],
   "source": [
    "# We will import the functions to deal with a linear model.\n",
    "import sklearn.linear_model as skl_lm\n",
    "# and a function that calculates the performance\n",
    "from sklearn.metrics import mean_squared_error"
   ]
  },
  {
   "cell_type": "code",
   "execution_count": 5,
   "metadata": {},
   "outputs": [],
   "source": [
    "# We will use also another library to plot our model\n",
    "import matplotlib.pyplot as plt"
   ]
  },
  {
   "cell_type": "markdown",
   "metadata": {},
   "source": [
    "### 2.- Data acqusition, cleaning, and normalisation\n",
    "Again, we use the same code to open another csv file, this time intended for a regression problem\n",
    "The dataset represents the money invested in advertisement in TV, Radio, and Newspapers.\n",
    "The last column represents the sales of the product.\n",
    "A summary is as follows:\n",
    "\n",
    "* 1.- Product ID\n",
    "* 2.- TV\n",
    "* 3.- Radio\n",
    "* 4.- Newspapers\n",
    "* 5.- Sales"
   ]
  },
  {
   "cell_type": "code",
   "execution_count": 11,
   "metadata": {},
   "outputs": [],
   "source": [
    "# header: indicates if the dataset has an initial line with the name of each column\n",
    "# If we visualise the dataset,we can see that the first row corresponds with the name of the columns\n",
    "dataset = pd.read_csv('Advertising.csv', header=1)"
   ]
  },
  {
   "cell_type": "code",
   "execution_count": 12,
   "metadata": {},
   "outputs": [
    {
     "name": "stdout",
     "output_type": "stream",
     "text": [
      "<class 'pandas.core.frame.DataFrame'>\n",
      "RangeIndex: 199 entries, 0 to 198\n",
      "Data columns (total 5 columns):\n",
      " #   Column  Non-Null Count  Dtype  \n",
      "---  ------  --------------  -----  \n",
      " 0   1       199 non-null    int64  \n",
      " 1   230.1   199 non-null    float64\n",
      " 2   37.8    199 non-null    float64\n",
      " 3   69.2    199 non-null    float64\n",
      " 4   22.1    199 non-null    float64\n",
      "dtypes: float64(4), int64(1)\n",
      "memory usage: 7.9 KB\n"
     ]
    }
   ],
   "source": [
    "# We can visualise the dataset\n",
    "dataset.info()"
   ]
  },
  {
   "cell_type": "markdown",
   "metadata": {},
   "source": [
    "We can see that, this time, the dataset doesn't have missing values"
   ]
  },
  {
   "cell_type": "code",
   "execution_count": 13,
   "metadata": {},
   "outputs": [],
   "source": [
    "# sklearn provides different ways of normalising/scaling our data\n",
    "# first, we need to create a scaler and then apply it to the data\n",
    "# define a min-max scaler\n",
    "scaler = MinMaxScaler()"
   ]
  },
  {
   "cell_type": "code",
   "execution_count": 14,
   "metadata": {},
   "outputs": [],
   "source": [
    "# transform data\n",
    "dataset_norm = scaler.fit_transform(dataset)"
   ]
  },
  {
   "cell_type": "markdown",
   "metadata": {},
   "source": [
    "## A simple Hold-out method\n",
    "### 1.- Division of our dataset"
   ]
  },
  {
   "cell_type": "markdown",
   "metadata": {},
   "source": [
    "We decide to divide our dataset into two parts: 70% for training, and 30% for testing. For that, we will use the function **train_test_split**. This function will require to divide the predictors from the target/label column. Since our dataset is stored in numpy array, we can retrieve directly this data.\n",
    "\n",
    "$[:, :-1]$ All rows and all columns except the last one\n",
    "\n",
    "$[:, -1]$ All rows and last column"
   ]
  },
  {
   "cell_type": "code",
   "execution_count": 15,
   "metadata": {},
   "outputs": [],
   "source": [
    "# we select all the colums except the last one\n",
    "predictors = dataset_norm[:, :-1]\n",
    "# for the target, we select the last column\n",
    "target = dataset_norm[:, -1]"
   ]
  },
  {
   "cell_type": "code",
   "execution_count": 16,
   "metadata": {},
   "outputs": [
    {
     "name": "stdout",
     "output_type": "stream",
     "text": [
      "Dataset dimension:  (199, 5)\n",
      "Predictors dimension:  (199, 4)\n",
      "Target dimension:  (199,)\n"
     ]
    }
   ],
   "source": [
    "# to check the results, we print the dimensions of dataset\n",
    "# the dimensions of the array of the predictors, which should be the same of the dataset with one column less\n",
    "# the dimensions for the targets, which should be only one column\n",
    "# Note that shape doesn't show dimensions equal to 1 in the columns\n",
    "print('Dataset dimension: ',dataset_norm.shape)\n",
    "print('Predictors dimension: ', predictors.shape)\n",
    "print('Target dimension: ', target.shape)"
   ]
  },
  {
   "cell_type": "code",
   "execution_count": 18,
   "metadata": {},
   "outputs": [],
   "source": [
    "# Now that we have an array with predictors and another with the target values, we can use our train_test_split function\n",
    "# test_size = 0.3 means that 30% goes to testing and the rest 70% for validation (as we wanted)\n",
    "# random_state we use always the same size to always spit the data in the same way. \n",
    "# Necessary for comparison of more than one mdoel\n",
    "X_train, X_test, y_train, y_test = train_test_split(predictors, target, test_size = 0.3, random_state = 101)"
   ]
  },
  {
   "cell_type": "code",
   "execution_count": 19,
   "metadata": {},
   "outputs": [
    {
     "name": "stdout",
     "output_type": "stream",
     "text": [
      "Predictors dimensions for training:  (139, 4)\n",
      "Predictors dimensions for testing:  (60, 4)\n",
      "Target dimensions for training:  (139,)\n",
      "Target dimensions for testing:  (60,)\n"
     ]
    }
   ],
   "source": [
    "# we can check again the dimension of our train and test datasets\n",
    "print('Predictors dimensions for training: ', X_train.shape)\n",
    "print('Predictors dimensions for testing: ', X_test.shape)\n",
    "print('Target dimensions for training: ', y_train.shape)\n",
    "print('Target dimensions for testing: ', y_test.shape)"
   ]
  },
  {
   "cell_type": "markdown",
   "metadata": {},
   "source": [
    "### 2.- Creation, training and assessment of a simple linear model"
   ]
  },
  {
   "cell_type": "markdown",
   "metadata": {},
   "source": [
    "To properly follow the full validation process and, for simplicity, we then use a linear regression model to predict whether a person has diabetes or not (same dataset of prevous lab). We will see the theory behind this simple machine learning model soon. Only to mention that this model tries to fit a line to our data using a one degree polynomial.\n",
    "![LinearModel](img/Regression.png)\n",
    "\n",
    "\n",
    "For simplicity, we will use only as predictors, the information regarding *TV advertisements*, (column 1), and the class variable (column 5)."
   ]
  },
  {
   "cell_type": "code",
   "execution_count": 21,
   "metadata": {},
   "outputs": [],
   "source": [
    "# To be able to visualise the model in a 2-dimensional plot, \n",
    "# we select predictor 1 (Money spent in TV ads) as a single feature of the model for training and testing. \n",
    "# For that, we need to reshape them to have only one column\n",
    "X_train_1 = X_train[:,1].reshape(-1,1)\n",
    "X_test_1 = X_test[:,1].reshape(-1,1)"
   ]
  },
  {
   "cell_type": "markdown",
   "metadata": {},
   "source": [
    "In **reshape(-1,1)**, we give **-1** value to the number of rows and **1** to the number of columns. The number of columns is easy to understand, we only want to have one feature for our model and this feature is stored in column 1 of the dataset. However, why **row=-1**?, with **-1**, we indicate Python that we don't know the number of columns and it should be the compiler the one that has to figure out this value. Note that we can only do that with only one of the dimensions of the matrix. This is wrong **reshape(-1,-1)**."
   ]
  },
  {
   "cell_type": "code",
   "execution_count": 22,
   "metadata": {},
   "outputs": [],
   "source": [
    "# Create a linear regression object. This is an empty and generic model\n",
    "lm = skl_lm.LinearRegression()"
   ]
  },
  {
   "cell_type": "code",
   "execution_count": 23,
   "metadata": {},
   "outputs": [],
   "source": [
    "# We need to train the model using our training sets\n",
    "model = lm.fit(X_train_1, y_train)"
   ]
  },
  {
   "cell_type": "markdown",
   "metadata": {},
   "source": [
    "We now use the **predict()** function from sklearn to estimate the performance achieved by the linear model using the testing set."
   ]
  },
  {
   "cell_type": "code",
   "execution_count": 24,
   "metadata": {},
   "outputs": [],
   "source": [
    "# Make predictions using the testing set\n",
    "pred = model.predict(X_test_1)"
   ]
  },
  {
   "cell_type": "markdown",
   "metadata": {},
   "source": [
    "Since we are using linear regression, the metric we use to measure the error is the *mean squared error* (MSE). MSE calculates the distance of each data point of the dataset to the closest point in the model, squared them, sum them up, and finally divide this quatity by the number of samples. Here, a graphical representation of the distance of each datapoint to the model:\n",
    "![LinearModelError](img/RegressionError2.png)"
   ]
  },
  {
   "cell_type": "code",
   "execution_count": 25,
   "metadata": {},
   "outputs": [
    {
     "name": "stdout",
     "output_type": "stream",
     "text": [
      "0.015485860634487114\n"
     ]
    }
   ],
   "source": [
    "# The MSE is calculated using the test dataset and the model\n",
    "# Our mean square error is\n",
    "MSE = mean_squared_error(y_test, pred)\n",
    "print('MSE:', MSE)"
   ]
  },
  {
   "cell_type": "markdown",
   "metadata": {},
   "source": [
    "### 3.- Visualisation"
   ]
  },
  {
   "cell_type": "markdown",
   "metadata": {},
   "source": [
    "First, we are going to show the coefficient *m* in the regression model and the intercept *b*.\n",
    "Remember that follows the following formula:\n",
    "\n",
    "$ y=mx + b$"
   ]
  },
  {
   "cell_type": "code",
   "execution_count": 26,
   "metadata": {},
   "outputs": [
    {
     "name": "stdout",
     "output_type": "stream",
     "text": [
      "Coefficient m:  [0.5628171]\n",
      "Intercept b:  0.22347160919160947\n"
     ]
    }
   ],
   "source": [
    "print('Coefficient m: ', lm.coef_)\n",
    "print('Intercept b: ', lm.intercept_)"
   ]
  },
  {
   "cell_type": "markdown",
   "metadata": {},
   "source": [
    "Now we are going to plot the data and the linear model. For the data, we are going to use a scatter plot and a normal plot for the regression model."
   ]
  },
  {
   "cell_type": "code",
   "execution_count": 27,
   "metadata": {},
   "outputs": [
    {
     "data": {
      "image/png": "[encoded data removed]",
      "text/plain": [
       "<Figure size 1152x576 with 1 Axes>"
      ]
     },
     "metadata": {
      "needs_background": "light"
     },
     "output_type": "display_data"
    }
   ],
   "source": [
    "# Plot outputs\n",
    "plt.figure(figsize=(16, 8))\n",
    "plt.scatter(X_test_1, y_test,  color='black')\n",
    "plt.plot(X_test_1, pred, color='blue', linewidth=3)\n",
    "\n",
    "plt.xlabel(\"Money spent on TV ads (£)\")\n",
    "plt.ylabel(\"Sales (£)\")\n",
    "\n",
    "plt.show()"
   ]
  },
  {
   "cell_type": "markdown",
   "metadata": {},
   "source": [
    "We can see here that the linear model does an OK job for most of the data, but it is not able to fit the data when the money spent in TV adverts is low."
   ]
  }
 ],
 "metadata": {
  "kernelspec": {
   "display_name": "Python 3",
   "language": "python",
   "name": "python3"
  },
  "language_info": {
   "codemirror_mode": {
    "name": "ipython",
    "version": 3
   },
   "file_extension": ".py",
   "mimetype": "text/x-python",
   "name": "python",
   "nbconvert_exporter": "python",
   "pygments_lexer": "ipython3",
   "version": "3.7.7"
  }
 },
 "nbformat": 4,
 "nbformat_minor": 4
}
