{
 "cells": [
  {
   "cell_type": "markdown",
   "id": "liquid-bryan",
   "metadata": {},
   "source": [
    "# Classification Metrics"
   ]
  },
  {
   "cell_type": "code",
   "execution_count": 2,
   "id": "greatest-appraisal",
   "metadata": {},
   "outputs": [],
   "source": [
    "import numpy as np\n",
    "import pandas as pd\n",
    "import matplotlib.pyplot as plt\n",
    "%matplotlib inline"
   ]
  },
  {
   "cell_type": "markdown",
   "id": "congressional-vanilla",
   "metadata": {},
   "source": [
    "To start, we will create a simple dataset to illustrate how classification works and we render it. \n",
    "\n",
    "Like in the slides, we have 2 labels for a binary classification about whether or not a patient have heart disease. There is 3 features: `age`, `weight` and `blood circulation`.\n",
    "\n"
   ]
  },
  {
   "cell_type": "code",
   "execution_count": 3,
   "id": "commercial-security",
   "metadata": {},
   "outputs": [
    {
     "data": {
      "text/html": [
       "<div>\n",
       "<style scoped>\n",
       "    .dataframe tbody tr th:only-of-type {\n",
       "        vertical-align: middle;\n",
       "    }\n",
       "\n",
       "    .dataframe tbody tr th {\n",
       "        vertical-align: top;\n",
       "    }\n",
       "\n",
       "    .dataframe thead th {\n",
       "        text-align: right;\n",
       "    }\n",
       "</style>\n",
       "<table border=\"1\" class=\"dataframe\">\n",
       "  <thead>\n",
       "    <tr style=\"text-align: right;\">\n",
       "      <th></th>\n",
       "      <th>age</th>\n",
       "      <th>weight</th>\n",
       "      <th>blood circulation</th>\n",
       "      <th>label</th>\n",
       "    </tr>\n",
       "  </thead>\n",
       "  <tbody>\n",
       "    <tr>\n",
       "      <th>0</th>\n",
       "      <td>17</td>\n",
       "      <td>80</td>\n",
       "      <td>1.12</td>\n",
       "      <td>True</td>\n",
       "    </tr>\n",
       "    <tr>\n",
       "      <th>1</th>\n",
       "      <td>54</td>\n",
       "      <td>98</td>\n",
       "      <td>1.08</td>\n",
       "      <td>True</td>\n",
       "    </tr>\n",
       "    <tr>\n",
       "      <th>2</th>\n",
       "      <td>76</td>\n",
       "      <td>71</td>\n",
       "      <td>0.78</td>\n",
       "      <td>True</td>\n",
       "    </tr>\n",
       "    <tr>\n",
       "      <th>3</th>\n",
       "      <td>22</td>\n",
       "      <td>69</td>\n",
       "      <td>0.98</td>\n",
       "      <td>False</td>\n",
       "    </tr>\n",
       "    <tr>\n",
       "      <th>4</th>\n",
       "      <td>33</td>\n",
       "      <td>51</td>\n",
       "      <td>0.83</td>\n",
       "      <td>False</td>\n",
       "    </tr>\n",
       "    <tr>\n",
       "      <th>5</th>\n",
       "      <td>37</td>\n",
       "      <td>69</td>\n",
       "      <td>0.66</td>\n",
       "      <td>False</td>\n",
       "    </tr>\n",
       "    <tr>\n",
       "      <th>6</th>\n",
       "      <td>47</td>\n",
       "      <td>49</td>\n",
       "      <td>1.11</td>\n",
       "      <td>True</td>\n",
       "    </tr>\n",
       "    <tr>\n",
       "      <th>7</th>\n",
       "      <td>26</td>\n",
       "      <td>76</td>\n",
       "      <td>1.05</td>\n",
       "      <td>False</td>\n",
       "    </tr>\n",
       "    <tr>\n",
       "      <th>8</th>\n",
       "      <td>45</td>\n",
       "      <td>56</td>\n",
       "      <td>0.96</td>\n",
       "      <td>False</td>\n",
       "    </tr>\n",
       "    <tr>\n",
       "      <th>9</th>\n",
       "      <td>50</td>\n",
       "      <td>72</td>\n",
       "      <td>1.02</td>\n",
       "      <td>True</td>\n",
       "    </tr>\n",
       "    <tr>\n",
       "      <th>10</th>\n",
       "      <td>64</td>\n",
       "      <td>76</td>\n",
       "      <td>0.87</td>\n",
       "      <td>False</td>\n",
       "    </tr>\n",
       "    <tr>\n",
       "      <th>11</th>\n",
       "      <td>37</td>\n",
       "      <td>68</td>\n",
       "      <td>0.99</td>\n",
       "      <td>False</td>\n",
       "    </tr>\n",
       "    <tr>\n",
       "      <th>12</th>\n",
       "      <td>63</td>\n",
       "      <td>66</td>\n",
       "      <td>1.00</td>\n",
       "      <td>True</td>\n",
       "    </tr>\n",
       "    <tr>\n",
       "      <th>13</th>\n",
       "      <td>18</td>\n",
       "      <td>48</td>\n",
       "      <td>0.97</td>\n",
       "      <td>False</td>\n",
       "    </tr>\n",
       "  </tbody>\n",
       "</table>\n",
       "</div>"
      ],
      "text/plain": [
       "    age  weight  blood circulation  label\n",
       "0    17      80               1.12   True\n",
       "1    54      98               1.08   True\n",
       "2    76      71               0.78   True\n",
       "3    22      69               0.98  False\n",
       "4    33      51               0.83  False\n",
       "5    37      69               0.66  False\n",
       "6    47      49               1.11   True\n",
       "7    26      76               1.05  False\n",
       "8    45      56               0.96  False\n",
       "9    50      72               1.02   True\n",
       "10   64      76               0.87  False\n",
       "11   37      68               0.99  False\n",
       "12   63      66               1.00   True\n",
       "13   18      48               0.97  False"
      ]
     },
     "execution_count": 3,
     "metadata": {},
     "output_type": "execute_result"
    }
   ],
   "source": [
    "X = pd.DataFrame([[17, 80, 1.12, True],\n",
    "                  [54, 98, 1.08, True],\n",
    "                  [76, 71, 0.78, True],\n",
    "                  [22, 69, 0.98, False],\n",
    "                  [33, 51, 0.83, False],\n",
    "                  [37, 69, 0.66, False],\n",
    "                  [47, 49, 1.11, True],\n",
    "                  [26, 76, 1.05, False],\n",
    "                  [45, 56, 0.96, False],\n",
    "                  [50, 72, 1.02, True],\n",
    "                  [64, 76, 0.87, False],\n",
    "                  [37, 68, 0.99, False],\n",
    "                  [63, 66, 1.0, True],\n",
    "                  [18, 48, 0.97, False]],\n",
    "                 columns=['age','weight','blood circulation', 'label'])\n",
    "X"
   ]
  },
  {
   "cell_type": "markdown",
   "id": "approximate-dimension",
   "metadata": {},
   "source": [
    "We can observe the repartition of our data set"
   ]
  },
  {
   "cell_type": "code",
   "execution_count": 4,
   "id": "disturbed-flood",
   "metadata": {},
   "outputs": [
    {
     "name": "stdout",
     "output_type": "stream",
     "text": [
      "{False: 8, True: 6}\n"
     ]
    }
   ],
   "source": [
    "print(dict(zip(*np.unique(X['label'], return_counts=True))))"
   ]
  },
  {
   "cell_type": "markdown",
   "id": "massive-dealer",
   "metadata": {},
   "source": [
    "We will now visualize our dataset. As it has 3 dimensions, we can't plot as easily as usual. So instead we will plot it 3 times, using 2 features every time."
   ]
  },
  {
   "cell_type": "code",
   "execution_count": 5,
   "id": "dying-sixth",
   "metadata": {},
   "outputs": [
    {
     "data": {
      "text/plain": [
       "Text(0, 0.5, 'blood circulation')"
      ]
     },
     "execution_count": 5,
     "metadata": {},
     "output_type": "execute_result"
    },
    {
     "data": {
      "image/png": "[encoded data removed]",
      "text/plain": [
       "<Figure size 1296x360 with 3 Axes>"
      ]
     },
     "metadata": {
      "needs_background": "light"
     },
     "output_type": "display_data"
    }
   ],
   "source": [
    "f, ax = plt.subplots(1,3, figsize=(18, 5))\n",
    "ax[0].scatter(X['age'], X['weight'], s=50, c=X['label'], cmap = plt.cm.bwr) \n",
    "ax[0].set_xlabel('age')\n",
    "ax[0].set_ylabel('weight')\n",
    "ax[1].scatter(X['blood circulation'], X['weight'], s=50, c=X['label'], cmap = plt.cm.bwr) \n",
    "ax[1].set_xlabel('blood circulation')\n",
    "ax[1].set_ylabel('wight')\n",
    "ax[2].scatter(X['age'], X['blood circulation'], s=50, c=X['label'], cmap = plt.cm.bwr) \n",
    "ax[2].set_xlabel('age')\n",
    "ax[2].set_ylabel('blood circulation')"
   ]
  },
  {
   "cell_type": "markdown",
   "id": "objective-notification",
   "metadata": {},
   "source": [
    "We start by splitting our dataset in 2, a training set and a testing set. We use 70% of the data for the training set, and 30% for the testing."
   ]
  },
  {
   "cell_type": "code",
   "execution_count": 6,
   "id": "accomplished-nylon",
   "metadata": {},
   "outputs": [],
   "source": [
    "# import the split function fron sklearn\n",
    "from sklearn.model_selection import train_test_split\n",
    "train_set, test_set = train_test_split(X, test_size=0.30, random_state=42)"
   ]
  },
  {
   "cell_type": "code",
   "execution_count": 7,
   "id": "distant-hebrew",
   "metadata": {},
   "outputs": [
    {
     "data": {
      "text/html": [
       "<div>\n",
       "<style scoped>\n",
       "    .dataframe tbody tr th:only-of-type {\n",
       "        vertical-align: middle;\n",
       "    }\n",
       "\n",
       "    .dataframe tbody tr th {\n",
       "        vertical-align: top;\n",
       "    }\n",
       "\n",
       "    .dataframe thead th {\n",
       "        text-align: right;\n",
       "    }\n",
       "</style>\n",
       "<table border=\"1\" class=\"dataframe\">\n",
       "  <thead>\n",
       "    <tr style=\"text-align: right;\">\n",
       "      <th></th>\n",
       "      <th>age</th>\n",
       "      <th>weight</th>\n",
       "      <th>blood circulation</th>\n",
       "      <th>label</th>\n",
       "    </tr>\n",
       "  </thead>\n",
       "  <tbody>\n",
       "    <tr>\n",
       "      <th>8</th>\n",
       "      <td>45</td>\n",
       "      <td>56</td>\n",
       "      <td>0.96</td>\n",
       "      <td>False</td>\n",
       "    </tr>\n",
       "    <tr>\n",
       "      <th>2</th>\n",
       "      <td>76</td>\n",
       "      <td>71</td>\n",
       "      <td>0.78</td>\n",
       "      <td>True</td>\n",
       "    </tr>\n",
       "    <tr>\n",
       "      <th>1</th>\n",
       "      <td>54</td>\n",
       "      <td>98</td>\n",
       "      <td>1.08</td>\n",
       "      <td>True</td>\n",
       "    </tr>\n",
       "    <tr>\n",
       "      <th>13</th>\n",
       "      <td>18</td>\n",
       "      <td>48</td>\n",
       "      <td>0.97</td>\n",
       "      <td>False</td>\n",
       "    </tr>\n",
       "    <tr>\n",
       "      <th>4</th>\n",
       "      <td>33</td>\n",
       "      <td>51</td>\n",
       "      <td>0.83</td>\n",
       "      <td>False</td>\n",
       "    </tr>\n",
       "    <tr>\n",
       "      <th>7</th>\n",
       "      <td>26</td>\n",
       "      <td>76</td>\n",
       "      <td>1.05</td>\n",
       "      <td>False</td>\n",
       "    </tr>\n",
       "    <tr>\n",
       "      <th>10</th>\n",
       "      <td>64</td>\n",
       "      <td>76</td>\n",
       "      <td>0.87</td>\n",
       "      <td>False</td>\n",
       "    </tr>\n",
       "    <tr>\n",
       "      <th>3</th>\n",
       "      <td>22</td>\n",
       "      <td>69</td>\n",
       "      <td>0.98</td>\n",
       "      <td>False</td>\n",
       "    </tr>\n",
       "    <tr>\n",
       "      <th>6</th>\n",
       "      <td>47</td>\n",
       "      <td>49</td>\n",
       "      <td>1.11</td>\n",
       "      <td>True</td>\n",
       "    </tr>\n",
       "  </tbody>\n",
       "</table>\n",
       "</div>"
      ],
      "text/plain": [
       "    age  weight  blood circulation  label\n",
       "8    45      56               0.96  False\n",
       "2    76      71               0.78   True\n",
       "1    54      98               1.08   True\n",
       "13   18      48               0.97  False\n",
       "4    33      51               0.83  False\n",
       "7    26      76               1.05  False\n",
       "10   64      76               0.87  False\n",
       "3    22      69               0.98  False\n",
       "6    47      49               1.11   True"
      ]
     },
     "execution_count": 7,
     "metadata": {},
     "output_type": "execute_result"
    }
   ],
   "source": [
    "train_set"
   ]
  },
  {
   "cell_type": "code",
   "execution_count": 8,
   "id": "theoretical-flexibility",
   "metadata": {},
   "outputs": [
    {
     "data": {
      "text/html": [
       "<div>\n",
       "<style scoped>\n",
       "    .dataframe tbody tr th:only-of-type {\n",
       "        vertical-align: middle;\n",
       "    }\n",
       "\n",
       "    .dataframe tbody tr th {\n",
       "        vertical-align: top;\n",
       "    }\n",
       "\n",
       "    .dataframe thead th {\n",
       "        text-align: right;\n",
       "    }\n",
       "</style>\n",
       "<table border=\"1\" class=\"dataframe\">\n",
       "  <thead>\n",
       "    <tr style=\"text-align: right;\">\n",
       "      <th></th>\n",
       "      <th>age</th>\n",
       "      <th>weight</th>\n",
       "      <th>blood circulation</th>\n",
       "      <th>label</th>\n",
       "    </tr>\n",
       "  </thead>\n",
       "  <tbody>\n",
       "    <tr>\n",
       "      <th>9</th>\n",
       "      <td>50</td>\n",
       "      <td>72</td>\n",
       "      <td>1.02</td>\n",
       "      <td>True</td>\n",
       "    </tr>\n",
       "    <tr>\n",
       "      <th>11</th>\n",
       "      <td>37</td>\n",
       "      <td>68</td>\n",
       "      <td>0.99</td>\n",
       "      <td>False</td>\n",
       "    </tr>\n",
       "    <tr>\n",
       "      <th>0</th>\n",
       "      <td>17</td>\n",
       "      <td>80</td>\n",
       "      <td>1.12</td>\n",
       "      <td>True</td>\n",
       "    </tr>\n",
       "    <tr>\n",
       "      <th>12</th>\n",
       "      <td>63</td>\n",
       "      <td>66</td>\n",
       "      <td>1.00</td>\n",
       "      <td>True</td>\n",
       "    </tr>\n",
       "    <tr>\n",
       "      <th>5</th>\n",
       "      <td>37</td>\n",
       "      <td>69</td>\n",
       "      <td>0.66</td>\n",
       "      <td>False</td>\n",
       "    </tr>\n",
       "  </tbody>\n",
       "</table>\n",
       "</div>"
      ],
      "text/plain": [
       "    age  weight  blood circulation  label\n",
       "9    50      72               1.02   True\n",
       "11   37      68               0.99  False\n",
       "0    17      80               1.12   True\n",
       "12   63      66               1.00   True\n",
       "5    37      69               0.66  False"
      ]
     },
     "execution_count": 8,
     "metadata": {},
     "output_type": "execute_result"
    }
   ],
   "source": [
    "test_set"
   ]
  },
  {
   "cell_type": "markdown",
   "id": "commercial-interest",
   "metadata": {},
   "source": [
    "To obtain classification metrics, we need a classifier. We will use the `DecisionTreeClassifier` we used last week "
   ]
  },
  {
   "cell_type": "code",
   "execution_count": 9,
   "id": "miniature-soundtrack",
   "metadata": {},
   "outputs": [],
   "source": [
    "# importing the decision tree classifier algorithm function from sklearn\n",
    "from sklearn.tree import DecisionTreeClassifier\n",
    "# we create the decision tree classifier model\n",
    "# random_state is used to fix the randomness and obtain the same result every time\n",
    "decision_tree = DecisionTreeClassifier(random_state=42)\n",
    "# we create the tree based on our dataset\n",
    "# we give it all the columns except the last one as data, and the last as label\n",
    "decision_tree.fit(train_set[train_set.columns[:-1]], train_set['label'])\n",
    "predicted = decision_tree.predict(test_set[test_set.columns[:-1]])"
   ]
  },
  {
   "cell_type": "markdown",
   "id": "immediate-entrance",
   "metadata": {},
   "source": [
    "Like last week, we will display the result of the classification using the tree methods"
   ]
  },
  {
   "cell_type": "code",
   "execution_count": 10,
   "id": "fitting-crisis",
   "metadata": {},
   "outputs": [
    {
     "name": "stdout",
     "output_type": "stream",
     "text": [
      "label     : [ True False  True  True False]\n",
      "prediction: [ True False False  True False]\n",
      "accuracy  : 0.8\n"
     ]
    }
   ],
   "source": [
    "# display the label of the samples\n",
    "print('label     :', test_set['label'].to_numpy())\n",
    "# display the prediction of the patient by the classifier\n",
    "print('prediction:', predicted)\n",
    "# display the accuracy, between the classification of the tree and the original label\n",
    "print('accuracy  :', decision_tree.score(test_set[test_set.columns[:-1]], test_set['label']))"
   ]
  },
  {
   "cell_type": "markdown",
   "id": "complete-tokyo",
   "metadata": {},
   "source": [
    "However, the score function of our model redo a classification of the test set everytime. So if we want to obtain the label (from the `predict` function) and the score (from the `score` function) we have to do 2 classifications. It can be very expensive. \n",
    "\n",
    "Instead, we want to create our metrics (such as the accuracy) from the prediction of the model."
   ]
  },
  {
   "cell_type": "code",
   "execution_count": 21,
   "id": "separate-harris",
   "metadata": {},
   "outputs": [
    {
     "data": {
      "text/plain": [
       "array([[2, 0],\n",
       "       [1, 2]])"
      ]
     },
     "execution_count": 21,
     "metadata": {},
     "output_type": "execute_result"
    }
   ],
   "source": [
    "# import the confusion matrix function\n",
    "from sklearn.metrics import confusion_matrix\n",
    "# we use labels=['True', 'False'] so the label are in the standard order we saw in the slides\n",
    "matrix = confusion_matrix(test_set['label'], decision_tree.predict(test_set[test_set.columns[:-1]]), labels=[True, False])\n",
    "# we do the transpose of the matrix so the label are on top and the prediction on the side\n",
    "matrix = matrix.transpose()\n",
    "matrix"
   ]
  },
  {
   "cell_type": "markdown",
   "id": "mexican-milwaukee",
   "metadata": {},
   "source": [
    "We can use a function from sklearn to print a confusion matrix. However, it doesn't take a prediction arrays, but a model and the test set and label. It means it will recompute too the classification. Moreover, the order of the label and the arrangement Prediction/Ground truth is different tham what we wanted."
   ]
  },
  {
   "cell_type": "code",
   "execution_count": 12,
   "id": "superior-transformation",
   "metadata": {},
   "outputs": [
    {
     "data": {
      "text/plain": [
       "<sklearn.metrics._plot.confusion_matrix.ConfusionMatrixDisplay at 0x7fa946ba7040>"
      ]
     },
     "execution_count": 12,
     "metadata": {},
     "output_type": "execute_result"
    },
    {
     "data": {
      "image/png": "[encoded data removed]",
      "text/plain": [
       "<Figure size 432x288 with 2 Axes>"
      ]
     },
     "metadata": {
      "needs_background": "light"
     },
     "output_type": "display_data"
    }
   ],
   "source": [
    "from sklearn.metrics import plot_confusion_matrix\n",
    "plot_confusion_matrix(decision_tree, test_set[test_set.columns[:-1]], test_set['label'], cmap = 'Blues')"
   ]
  },
  {
   "cell_type": "markdown",
   "id": "intense-influence",
   "metadata": {},
   "source": [
    "To illustrate more easily the matrix and have a good visual representation, let's make a function"
   ]
  },
  {
   "cell_type": "code",
   "execution_count": 13,
   "id": "greenhouse-fabric",
   "metadata": {},
   "outputs": [
    {
     "name": "stdout",
     "output_type": "stream",
     "text": [
      " pr\\lb    True   False  \n",
      "  True     2       1    \n",
      " False     0       2    \n"
     ]
    }
   ],
   "source": [
    "# Create the list of labels\n",
    "labels = list(set(X['label']))\n",
    "labels.sort(reverse=True)\n",
    "print('pr\\lb'.center(8), end='')\n",
    "# print the labels on the first line\n",
    "for i in labels:\n",
    "    print(str(i).center(8), end='')\n",
    "print('')\n",
    "# print the predicted labells + the value\n",
    "for i in range(len(matrix)):\n",
    "    # print the row number i\n",
    "    # print the label of the ith row\n",
    "    print(str(labels[i]).center(8), end='')\n",
    "    # print the value on the ith row\n",
    "    for j in matrix[i]:\n",
    "        print(str(j).center(8), end='')\n",
    "    print('')"
   ]
  },
  {
   "cell_type": "markdown",
   "id": "suitable-sunglasses",
   "metadata": {},
   "source": [
    "You can see that it is quite tedious to a have a nice visualisation. We could use pandas to make it simpler."
   ]
  },
  {
   "cell_type": "code",
   "execution_count": 14,
   "id": "special-walker",
   "metadata": {},
   "outputs": [
    {
     "data": {
      "text/html": [
       "<div>\n",
       "<style scoped>\n",
       "    .dataframe tbody tr th:only-of-type {\n",
       "        vertical-align: middle;\n",
       "    }\n",
       "\n",
       "    .dataframe tbody tr th {\n",
       "        vertical-align: top;\n",
       "    }\n",
       "\n",
       "    .dataframe thead th {\n",
       "        text-align: right;\n",
       "    }\n",
       "</style>\n",
       "<table border=\"1\" class=\"dataframe\">\n",
       "  <thead>\n",
       "    <tr style=\"text-align: right;\">\n",
       "      <th></th>\n",
       "      <th>True</th>\n",
       "      <th>False</th>\n",
       "    </tr>\n",
       "  </thead>\n",
       "  <tbody>\n",
       "    <tr>\n",
       "      <th>True</th>\n",
       "      <td>2</td>\n",
       "      <td>1</td>\n",
       "    </tr>\n",
       "    <tr>\n",
       "      <th>False</th>\n",
       "      <td>0</td>\n",
       "      <td>2</td>\n",
       "    </tr>\n",
       "  </tbody>\n",
       "</table>\n",
       "</div>"
      ],
      "text/plain": [
       "       True   False\n",
       "True       2      1\n",
       "False      0      2"
      ]
     },
     "execution_count": 14,
     "metadata": {},
     "output_type": "execute_result"
    }
   ],
   "source": [
    "pd.DataFrame(matrix, columns=labels, index=labels)"
   ]
  },
  {
   "cell_type": "raw",
   "id": "grave-james",
   "metadata": {},
   "source": [
    "For the rest of the notebook, we will use a function we did to visualise easily a confusion matrix. You don't need it, but it is easier to visualise with one."
   ]
  },
  {
   "cell_type": "code",
   "execution_count": 15,
   "id": "deluxe-modeling",
   "metadata": {},
   "outputs": [
    {
     "name": "stdout",
     "output_type": "stream",
     "text": [
      "----------------------------\n",
      "| pr\\lb  |  True  | False  |\n",
      "----------------------------\n",
      "|  True  |\u001b[92m   2    \u001b[0m|\u001b[91m   0    \u001b[0m|\n",
      "----------------------------\n",
      "| False  |\u001b[91m   1    \u001b[0m|\u001b[92m   2    \u001b[0m|\n",
      "----------------------------\n"
     ]
    }
   ],
   "source": [
    "from utility.utility import compare_class\n",
    "compare_class(predicted, test_set['label'], verbose=0, color=True)"
   ]
  },
  {
   "cell_type": "markdown",
   "id": "healthy-storm",
   "metadata": {},
   "source": [
    "We are interested in some metrics as we saw in the slides. Mainly the precision (ppv), the recall (tpr), the f1 score and the accuracy.\n",
    "\n",
    "Fortunately, as those are the most used metrics in classification, sklearn provides us function to compute them automatically. However, it doesn't provide information regarding the specificity, so we have to make one ourselves."
   ]
  },
  {
   "cell_type": "code",
   "execution_count": 24,
   "id": "scientific-matrix",
   "metadata": {},
   "outputs": [
    {
     "name": "stdout",
     "output_type": "stream",
     "text": [
      "f1: 0.8\n",
      "acc: 0.8\n",
      "recall: 0.6666666666666666\n",
      "precision: 1.0\n",
      "specificity: 1.0\n"
     ]
    }
   ],
   "source": [
    "from sklearn.metrics import precision_score, recall_score, f1_score, accuracy_score\n",
    "def tnr(matrix):\n",
    "    return matrix[1][1] / matrix[:, 1].sum()\n",
    "\n",
    "f1 = f1_score(test_set['label'], predicted)\n",
    "acc = accuracy_score(test_set['label'], predicted)\n",
    "recall = recall_score(test_set['label'], predicted)\n",
    "precision = precision_score(test_set['label'], predicted)\n",
    "specificity = tnr(matrix)\n",
    "print('f1:', f1)\n",
    "print('acc:', acc)\n",
    "print('recall:', recall)\n",
    "print('precision:', precision)\n",
    "print('specificity:', specificity)"
   ]
  },
  {
   "cell_type": "markdown",
   "id": "similar-intermediate",
   "metadata": {},
   "source": [
    "Let's visualise it along the matrix, as you can see them sometimes. The ppv/precision is located on the row of the positive prediction, the tpr/sensitivity/recall on the column of the positive label and the specicity/tnr on the column of the negative label."
   ]
  },
  {
   "cell_type": "code",
   "execution_count": 25,
   "id": "naked-produce",
   "metadata": {},
   "outputs": [
    {
     "name": "stdout",
     "output_type": "stream",
     "text": [
      "-------------------------------------------------------\n",
      "| pr\\lb  |  True  | False  | total  |\u001b[36m  ppv   \u001b[0m|\u001b[36m  acc   \u001b[0m|\n",
      "-------------------------------------------------------\n",
      "|  True  |\u001b[92m   2    \u001b[0m|\u001b[91m   0    \u001b[0m|   2    |\u001b[96m  1.0   \u001b[0m|\u001b[96m  0.8   \u001b[0m|\n",
      "-------------------------------------------------------\n",
      "| False  |\u001b[91m   1    \u001b[0m|\u001b[92m   2    \u001b[0m|   3    |\u001b[36m  f_1   \u001b[0m|\n",
      "----------------------------------------------\n",
      "| total  |   3    |   2    |   5    |\u001b[96m  0.8   \u001b[0m|\n",
      "----------------------------------------------\n",
      "|\u001b[36m  tpr   \u001b[0m|\u001b[96m 0.667  \u001b[0m|\u001b[36m  tnr   \u001b[0m|\u001b[96m  1.0   \u001b[0m|\n",
      "-------------------------------------\n"
     ]
    }
   ],
   "source": [
    "compare_class(predicted, test_set['label'], verbose=2)"
   ]
  },
  {
   "cell_type": "markdown",
   "id": "flying-local",
   "metadata": {},
   "source": [
    "We can also observe how important and diverse the different metrics can be regarding the results of the classification. With a small dataset li"
   ]
  },
  {
   "cell_type": "code",
   "execution_count": 17,
   "id": "legislative-passport",
   "metadata": {},
   "outputs": [],
   "source": [
    "d1 = DecisionTreeClassifier(random_state=42)\n",
    "d2 = DecisionTreeClassifier(random_state=42)\n",
    "d3 = DecisionTreeClassifier(random_state=42)\n",
    "\n",
    "train_set1, test_set1 = train_test_split(X, test_size=0.30, random_state=1)\n",
    "train_set2, test_set2 = train_test_split(X, test_size=0.30, random_state=2)\n",
    "train_set3, test_set3 = train_test_split(X, test_size=0.30, random_state=4)\n",
    "\n",
    "d1.fit(train_set[train_set1.columns[:-1]], train_set1['label'])\n",
    "p1 = d1.predict(test_set1[test_set1.columns[:-1]])\n",
    "\n",
    "d2.fit(train_set[train_set2.columns[:-1]], train_set2['label'])\n",
    "p2 = d2.predict(test_set2[test_set2.columns[:-1]])\n",
    "\n",
    "d3.fit(train_set[train_set3.columns[:-1]], train_set3['label'])\n",
    "p3 = d3.predict(test_set3[test_set3.columns[:-1]])"
   ]
  },
  {
   "cell_type": "code",
   "execution_count": 18,
   "id": "comprehensive-algeria",
   "metadata": {},
   "outputs": [
    {
     "name": "stdout",
     "output_type": "stream",
     "text": [
      "label     : [False False  True  True False]\n",
      "prediction: [False  True False  True False]\n",
      "-------------------------------------------------------\n",
      "| pr\\lb  |  True  | False  | total  |\u001b[36m  ppv   \u001b[0m|\u001b[36m  acc   \u001b[0m|\n",
      "-------------------------------------------------------\n",
      "|  True  |\u001b[92m   1    \u001b[0m|\u001b[91m   1    \u001b[0m|   2    |\u001b[96m  0.5   \u001b[0m|\u001b[96m  0.6   \u001b[0m|\n",
      "-------------------------------------------------------\n",
      "| False  |\u001b[91m   1    \u001b[0m|\u001b[92m   2    \u001b[0m|   3    |\u001b[36m  f_1   \u001b[0m|\n",
      "----------------------------------------------\n",
      "| total  |   2    |   3    |   5    |\u001b[96m  0.5   \u001b[0m|\n",
      "----------------------------------------------\n",
      "|\u001b[36m  tpr   \u001b[0m|\u001b[96m  0.5   \u001b[0m|\u001b[33m  tnr   \u001b[0m|\u001b[93m 0.667  \u001b[0m|\n",
      "-------------------------------------\n"
     ]
    }
   ],
   "source": [
    "print('label     :', test_set1['label'].to_numpy())\n",
    "print('prediction:', p1)\n",
    "compare_class(p1, test_set1['label'], verbose=2)"
   ]
  },
  {
   "cell_type": "code",
   "execution_count": 17,
   "id": "bronze-warrior",
   "metadata": {},
   "outputs": [
    {
     "name": "stdout",
     "output_type": "stream",
     "text": [
      "label     : [False False False  True  True]\n",
      "prediction: [False  True  True  True False]\n",
      "-------------------------------------------------------\n",
      "| pr\\lb  |  True  | False  | total  |\u001b[36m  ppv   \u001b[0m|\u001b[36m  acc   \u001b[0m|\n",
      "-------------------------------------------------------\n",
      "|  True  |\u001b[92m   2    \u001b[0m|\u001b[91m   1    \u001b[0m|   3    |\u001b[96m 0.667  \u001b[0m|\u001b[96m  0.8   \u001b[0m|\n",
      "-------------------------------------------------------\n",
      "| False  |\u001b[91m   0    \u001b[0m|\u001b[92m   2    \u001b[0m|   2    |\u001b[36m  f_1   \u001b[0m|\n",
      "----------------------------------------------\n",
      "| total  |   2    |   3    |   5    |\u001b[96m  0.8   \u001b[0m|\n",
      "----------------------------------------------\n",
      "|\u001b[36m  tpr   \u001b[0m|\u001b[96m  1.0   \u001b[0m|\n",
      "-------------------\n"
     ]
    }
   ],
   "source": [
    "print('label     :', test_set2['label'].to_numpy())\n",
    "print('prediction:', p2)\n",
    "compare_class(p2, test_set1['label'], verbose=2)"
   ]
  },
  {
   "cell_type": "code",
   "execution_count": 18,
   "id": "focal-creator",
   "metadata": {},
   "outputs": [
    {
     "name": "stdout",
     "output_type": "stream",
     "text": [
      "label     : [False False False  True  True]\n",
      "prediction: [False False False  True False]\n",
      "-------------------------------------------------------\n",
      "| pr\\lb  |  True  | False  | total  |\u001b[36m  ppv   \u001b[0m|\u001b[36m  acc   \u001b[0m|\n",
      "-------------------------------------------------------\n",
      "|  True  |\u001b[92m   1    \u001b[0m|\u001b[91m   0    \u001b[0m|   1    |\u001b[96m  1.0   \u001b[0m|\u001b[96m  0.8   \u001b[0m|\n",
      "-------------------------------------------------------\n",
      "| False  |\u001b[91m   1    \u001b[0m|\u001b[92m   3    \u001b[0m|   4    |\u001b[36m  f_1   \u001b[0m|\n",
      "----------------------------------------------\n",
      "| total  |   2    |   3    |   5    |\u001b[96m 0.667  \u001b[0m|\n",
      "----------------------------------------------\n",
      "|\u001b[36m  tpr   \u001b[0m|\u001b[96m  0.5   \u001b[0m|\n",
      "-------------------\n"
     ]
    }
   ],
   "source": [
    "print('label     :', test_set3['label'].to_numpy())\n",
    "print('prediction:', p3)\n",
    "compare_class(p3, test_set1['label'], verbose=2)"
   ]
  },
  {
   "cell_type": "markdown",
   "id": "broad-atlantic",
   "metadata": {},
   "source": []
  },
  {
   "cell_type": "code",
   "execution_count": null,
   "id": "intensive-conspiracy",
   "metadata": {},
   "outputs": [],
   "source": []
  },
  {
   "cell_type": "code",
   "execution_count": null,
   "id": "stable-kelly",
   "metadata": {},
   "outputs": [],
   "source": []
  },
  {
   "cell_type": "code",
   "execution_count": null,
   "id": "hybrid-anthropology",
   "metadata": {},
   "outputs": [],
   "source": []
  }
 ],
 "metadata": {
  "kernelspec": {
   "display_name": "Python 3",
   "language": "python",
   "name": "python3"
  },
  "language_info": {
   "codemirror_mode": {
    "name": "ipython",
    "version": 3
   },
   "file_extension": ".py",
   "mimetype": "text/x-python",
   "name": "python",
   "nbconvert_exporter": "python",
   "pygments_lexer": "ipython3",
   "version": "3.8.6"
  }
 },
 "nbformat": 4,
 "nbformat_minor": 5
}
