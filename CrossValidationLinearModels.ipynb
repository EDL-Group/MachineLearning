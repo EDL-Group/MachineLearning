{
 "cells": [
  {
   "cell_type": "markdown",
   "metadata": {},
   "source": [
    "# CROSS-VALIDATION IN MACHINE LEARNING\n",
    "In this notebook we will describe the code required to perform a cross-validation procedure over our data."
   ]
  },
  {
   "cell_type": "markdown",
   "metadata": {},
   "source": [
    "## Pre-processing\n",
    "The next cells are a repetition of what we did last weeks.\n",
    "### 1.- Import libraries"
   ]
  },
  {
   "cell_type": "code",
   "execution_count": 1,
   "metadata": {},
   "outputs": [],
   "source": [
    "# We would require again the following libraries to manage our dataset\n",
    "# Numpy: used for large, multi-dimensional arrays and matrices, and for high-level mathematical functions\n",
    "# Pandas: used for data manipulation and analysis\n",
    "import numpy as np\n",
    "import pandas as pd"
   ]
  },
  {
   "cell_type": "code",
   "execution_count": 2,
   "metadata": {},
   "outputs": [],
   "source": [
    "# This time we will use the predefined function to scale (min-max normalisation) our data\n",
    "from sklearn.preprocessing import MinMaxScaler"
   ]
  },
  {
   "cell_type": "code",
   "execution_count": 3,
   "metadata": {},
   "outputs": [],
   "source": [
    "# we will use the same library to divide our dataset in train and testing\n",
    "from sklearn.model_selection import train_test_split"
   ]
  },
  {
   "cell_type": "code",
   "execution_count": 4,
   "metadata": {},
   "outputs": [],
   "source": [
    "# We will import the functions to deal with a linear model.\n",
    "import sklearn.linear_model as skl_lm\n",
    "# and a function that calculates the performance\n",
    "from sklearn.metrics import mean_squared_error"
   ]
  },
  {
   "cell_type": "code",
   "execution_count": 5,
   "metadata": {},
   "outputs": [],
   "source": [
    "# We will use also another library to plot our model\n",
    "import matplotlib.pyplot as plt"
   ]
  },
  {
   "cell_type": "markdown",
   "metadata": {},
   "source": [
    "### 2.- Data acqusition, cleaning, and normalisation\n",
    "Again, we use the same code to open another csv file, this time intended for a regression problem\n",
    "The dataset represents the money invested in advertisement in TV, Radio, and Newspapers.\n",
    "The last column represents the sales of the product.\n",
    "A summary is as follows:\n",
    "\n",
    "* 1.- Product ID\n",
    "* 2.- TV\n",
    "* 3.- Radio\n",
    "* 4.- Newspapers\n",
    "* 5.- Sales"
   ]
  },
  {
   "cell_type": "code",
   "execution_count": 6,
   "metadata": {},
   "outputs": [],
   "source": [
    "# header: indicates if the dataset has an initial line with the name of each column\n",
    "# If we visualise the dataset,we can see that the first row corresponds with the name of the columns\n",
    "dataset = pd.read_csv('Advertising.csv', header=1)"
   ]
  },
  {
   "cell_type": "code",
   "execution_count": 7,
   "metadata": {},
   "outputs": [
    {
     "name": "stdout",
     "output_type": "stream",
     "text": [
      "<class 'pandas.core.frame.DataFrame'>\n",
      "RangeIndex: 199 entries, 0 to 198\n",
      "Data columns (total 5 columns):\n",
      " #   Column  Non-Null Count  Dtype  \n",
      "---  ------  --------------  -----  \n",
      " 0   1       199 non-null    int64  \n",
      " 1   230.1   199 non-null    float64\n",
      " 2   37.8    199 non-null    float64\n",
      " 3   69.2    199 non-null    float64\n",
      " 4   22.1    199 non-null    float64\n",
      "dtypes: float64(4), int64(1)\n",
      "memory usage: 7.9 KB\n"
     ]
    }
   ],
   "source": [
    "# We can visualise the dataset\n",
    "dataset.info()"
   ]
  },
  {
   "cell_type": "markdown",
   "metadata": {},
   "source": [
    "We can see that, this time, the dataset doesn't have missing values"
   ]
  },
  {
   "cell_type": "code",
   "execution_count": 8,
   "metadata": {},
   "outputs": [],
   "source": [
    "# sklearn provides different ways of normalising/scaling our data\n",
    "# first, we need to create a scaler and then apply it to the data\n",
    "# define a min-max scaler\n",
    "scaler = MinMaxScaler()"
   ]
  },
  {
   "cell_type": "code",
   "execution_count": 9,
   "metadata": {},
   "outputs": [],
   "source": [
    "# transform data\n",
    "dataset_norm = scaler.fit_transform(dataset)"
   ]
  },
  {
   "cell_type": "markdown",
   "metadata": {},
   "source": [
    "## Division of our dataset in training and testing\n",
    "### Same than last week"
   ]
  },
  {
   "cell_type": "markdown",
   "metadata": {},
   "source": [
    "We decide to divide our dataset into two parts: 70% for training, and 30% for testing. For that, we will use the function **train_test_split**. This function will require to divide the predictors from the target/label column. Since our dataset is stored in numpy array, we can retrieve directly this data.\n",
    "\n",
    "The labels:\n",
    "\n",
    "$[:, :-1]$ All rows and all columns except the last one\n",
    "\n",
    "The predictors:\n",
    "\n",
    "$[:, -1]$ All rows and last column"
   ]
  },
  {
   "cell_type": "code",
   "execution_count": 33,
   "metadata": {},
   "outputs": [],
   "source": [
    "# we select all the colums except the last one\n",
    "predictors = dataset_norm[:, :-1]\n",
    "# for the target (sales), we select the last column\n",
    "target = dataset_norm[:, -1]"
   ]
  },
  {
   "cell_type": "code",
   "execution_count": 34,
   "metadata": {},
   "outputs": [
    {
     "name": "stdout",
     "output_type": "stream",
     "text": [
      "Dataset dimension:  (199, 5)\n",
      "Predictors dimension:  (199, 4)\n",
      "Target dimension:  (199,)\n"
     ]
    }
   ],
   "source": [
    "# to check the results, we print the dimensions of dataset\n",
    "# the dimensions of the array of the predictors, which should be the same of the dataset with one column less\n",
    "# the dimensions for the targets, which should be only one column\n",
    "# Note that shape doesn't show dimensions equal to 1 in the columns\n",
    "print('Dataset dimension: ',dataset_norm.shape)\n",
    "print('Predictors dimension: ', predictors.shape)\n",
    "print('Target dimension: ', target.shape)"
   ]
  },
  {
   "cell_type": "code",
   "execution_count": 35,
   "metadata": {},
   "outputs": [],
   "source": [
    "# Now that we have an array with predictors and another with the target values, we can use our train_test_split function\n",
    "# test_size = 0.3 means that 30% goes to testing and the rest 70% for validation (as we wanted)\n",
    "# random_state we always spit the data in the same way (setting a seed value for random number generator). \n",
    "# Necessary for comparison of more than one mdoel\n",
    "X_train, X_test, y_train, y_test = train_test_split(predictors, target, test_size = 0.3, random_state = 101)"
   ]
  },
  {
   "cell_type": "code",
   "execution_count": 36,
   "metadata": {},
   "outputs": [
    {
     "name": "stdout",
     "output_type": "stream",
     "text": [
      "Predictors dimensions for training:  (139, 4)\n",
      "Predictors dimensions for testing:  (60, 4)\n",
      "Target dimensions for training:  (139,)\n",
      "Target dimensions for testing:  (60,)\n"
     ]
    }
   ],
   "source": [
    "# we can check again the dimension of our train and test datasets\n",
    "print('Predictors dimensions for training: ', X_train.shape)\n",
    "print('Predictors dimensions for testing: ', X_test.shape)\n",
    "print('Target dimensions for training: ', y_train.shape)\n",
    "print('Target dimensions for testing: ', y_test.shape)"
   ]
  },
  {
   "cell_type": "markdown",
   "metadata": {},
   "source": [
    "### 2.- Creation, training and assessment of a simple linear model"
   ]
  },
  {
   "cell_type": "markdown",
   "metadata": {},
   "source": [
    "To properly follow the full validation process and, for simplicity, we then use a linear regression model to predict whether a person has diabetes or not (same dataset of prevous lab). We will see the theory behind this simple machine learning model soon. Only to mention that this model tries to fit a line to our data using a one degree polynomial.\n",
    "![LinearModel](img/Regression.png)\n",
    "\n",
    "\n",
    "For simplicity, we will use only as predictors, the information regarding *TV advertisements*, (column 1), and the class variable (column 5)."
   ]
  },
  {
   "cell_type": "code",
   "execution_count": 37,
   "metadata": {},
   "outputs": [],
   "source": [
    "# To be able to visualise the model in a 2-dimensional plot, \n",
    "# we select predictor 1 (Money spent in TV ads) as a single feature of the model for training and testing. \n",
    "# For that, we need to reshape them to have only one column\n",
    "X_train_1 = X_train[:,1].reshape(-1,1)\n",
    "X_test_1 = X_test[:,1].reshape(-1,1)"
   ]
  },
  {
   "cell_type": "markdown",
   "metadata": {},
   "source": [
    "In **reshape(-1,1)**, we give **-1** value to the number of rows and **1** to the number of columns. The number of columns is easy to understand, we only want to have one feature for our model and this feature is stored in column 1 of the dataset. However, why **row=-1**?, with **-1**, we indicate Python that we don't know the number of columns and it should be the compiler the one that has to figure out this value. Note that we can only do that with only one of the dimensions of the matrix. This is wrong **reshape(-1,-1)**."
   ]
  },
  {
   "cell_type": "code",
   "execution_count": 38,
   "metadata": {},
   "outputs": [],
   "source": [
    "# Create a linear regression object. This is an empty and generic model\n",
    "lm = skl_lm.LinearRegression()"
   ]
  },
  {
   "cell_type": "code",
   "execution_count": 39,
   "metadata": {},
   "outputs": [],
   "source": [
    "# We need to train the model using our training sets\n",
    "model = lm.fit(X_train_1, y_train)"
   ]
  },
  {
   "cell_type": "markdown",
   "metadata": {},
   "source": [
    "We now use the **predict()** function from sklearn to estimate the performance achieved by the linear model using the testing set."
   ]
  },
  {
   "cell_type": "code",
   "execution_count": 40,
   "metadata": {},
   "outputs": [],
   "source": [
    "# Make predictions using the testing set\n",
    "pred = model.predict(X_test_1)"
   ]
  },
  {
   "cell_type": "code",
   "execution_count": 41,
   "metadata": {},
   "outputs": [
    {
     "name": "stdout",
     "output_type": "stream",
     "text": [
      "MSE: 0.015485860634487114\n"
     ]
    }
   ],
   "source": [
    "# The MSE is calculated using the test dataset and the model\n",
    "# Our mean square error is\n",
    "MSE = mean_squared_error(y_test, pred)\n",
    "print('MSE:', MSE)"
   ]
  },
  {
   "cell_type": "markdown",
   "metadata": {},
   "source": [
    "### 3.- Visualisation"
   ]
  },
  {
   "cell_type": "markdown",
   "metadata": {},
   "source": [
    "First, we are going to show the coefficient *m* in the regression model and the intercept *b*.\n",
    "Remember that follows the following formula:\n",
    "\n",
    "$ y=mx + b$"
   ]
  },
  {
   "cell_type": "code",
   "execution_count": 42,
   "metadata": {},
   "outputs": [
    {
     "name": "stdout",
     "output_type": "stream",
     "text": [
      "Coefficient m:  [0.5628171]\n",
      "Intercept b:  0.22347160919160947\n"
     ]
    }
   ],
   "source": [
    "print('Coefficient m: ', lm.coef_)\n",
    "print('Intercept b: ', lm.intercept_)"
   ]
  },
  {
   "cell_type": "markdown",
   "metadata": {},
   "source": [
    "Now we are going to plot the data and the linear model. For the data, we are going to use a scatter plot and a normal plot for the regression model."
   ]
  },
  {
   "cell_type": "code",
   "execution_count": 43,
   "metadata": {},
   "outputs": [
    {
     "data": {
      "image/png": "[encoded data removed]",
      "text/plain": [
       "<Figure size 1152x576 with 1 Axes>"
      ]
     },
     "metadata": {
      "needs_background": "light"
     },
     "output_type": "display_data"
    }
   ],
   "source": [
    "# Plot outputs\n",
    "plt.figure(figsize=(16, 8))\n",
    "plt.scatter(X_test_1, y_test,  color='black')\n",
    "plt.plot(X_test_1, pred, color='blue', linewidth=3)\n",
    "\n",
    "plt.xlabel(\"Money spent on TV ads (£)\",fontsize=18)\n",
    "plt.ylabel(\"Sales (£)\",fontsize=18)\n",
    "\n",
    "plt.show()"
   ]
  },
  {
   "cell_type": "markdown",
   "metadata": {},
   "source": [
    "We can see here that the linear model does an OK job for most of the data, but it is not able to fit the data when the money spent in TV adverts is low."
   ]
  },
  {
   "cell_type": "markdown",
   "metadata": {},
   "source": [
    "## Square and Cubic models\n",
    "Now, we are going to create a quadratic an a cubic model using the same single feature and later estimate the test errors.\n",
    "\n",
    "Quadratic ->\n",
    "$ y=mx^2 + b$\n",
    "\n",
    "Cubic ->\n",
    "$ y=mx^3 + b$\n",
    "\n",
    "The implementation of polynomial regression in Python is a two-step process. First, we transform our data into a polynomial using the **PolynomialFeatures()** function from sklearn and then use linear regression to fit the parameters:\n",
    "\n",
    "![two-step](img/pipeline.png)"
   ]
  },
  {
   "cell_type": "code",
   "execution_count": 149,
   "metadata": {},
   "outputs": [],
   "source": [
    "# To use higher levels of polynomial in our linear regression model, we should use the following function\n",
    "# Importing libraries for polynomial transform\n",
    "from sklearn.preprocessing import PolynomialFeatures"
   ]
  },
  {
   "cell_type": "code",
   "execution_count": 150,
   "metadata": {},
   "outputs": [],
   "source": [
    "# Creation of the Quadratic model (degree 2)\n",
    "poly = PolynomialFeatures(degree=2)"
   ]
  },
  {
   "cell_type": "code",
   "execution_count": 151,
   "metadata": {},
   "outputs": [],
   "source": [
    "# Fitting the quadratic model into the linear regression\n",
    "X_train_2 = poly.fit_transform(X_train_1)\n",
    "X_test_2 = poly.fit_transform(X_test_1)"
   ]
  },
  {
   "cell_type": "code",
   "execution_count": 152,
   "metadata": {},
   "outputs": [
    {
     "name": "stdout",
     "output_type": "stream",
     "text": [
      "0.015480236270248582\n"
     ]
    }
   ],
   "source": [
    "# Fitting the linear model\n",
    "model = lm.fit(X_train_2, y_train)\n",
    "pred_2 = model.predict(X_test_2)\n",
    "print(mean_squared_error(y_test, pred_2))"
   ]
  },
  {
   "cell_type": "code",
   "execution_count": 159,
   "metadata": {},
   "outputs": [
    {
     "data": {
      "image/png": "[encoded data removed]",
      "text/plain": [
       "<Figure size 1152x576 with 1 Axes>"
      ]
     },
     "metadata": {
      "needs_background": "light"
     },
     "output_type": "display_data"
    }
   ],
   "source": [
    "# Plot outputs\n",
    "plt.figure(figsize=(16, 8))\n",
    "plt.scatter(X_test_1, y_test,  color='black')\n",
    "# The values in X_test_1 are not in order. We need to sort them before plotting\n",
    "xs, ys = zip(*sorted(zip(X_test_1, pred_2)))\n",
    "plt.plot(xs, ys, color='blue', linewidth=3)\n",
    "\n",
    "plt.xlabel(\"Money spent on TV ads (£)\",fontsize=18)\n",
    "plt.ylabel(\"Sales (£)\",fontsize=18)\n",
    "\n",
    "plt.show()"
   ]
  },
  {
   "cell_type": "code",
   "execution_count": 156,
   "metadata": {},
   "outputs": [
    {
     "name": "stdout",
     "output_type": "stream",
     "text": [
      "0.015434689658162805\n"
     ]
    }
   ],
   "source": [
    "# We do the same with the cubic version\n",
    "poly = PolynomialFeatures(degree=3)\n",
    "X_train_3 = poly.fit_transform(X_train_1)\n",
    "X_test_3 = poly.fit_transform(X_test_1)\n",
    "\n",
    "model = lm.fit(X_train_3, y_train)\n",
    "pred_3 = model.predict(X_test_3)"
   ]
  },
  {
   "cell_type": "code",
   "execution_count": null,
   "metadata": {},
   "outputs": [],
   "source": [
    "# We print the error\n",
    "print(mean_squared_error(y_test, pred_3))"
   ]
  },
  {
   "cell_type": "code",
   "execution_count": 161,
   "metadata": {},
   "outputs": [
    {
     "data": {
      "image/png": "[encoded data removed]",
      "text/plain": [
       "<Figure size 1152x576 with 1 Axes>"
      ]
     },
     "metadata": {
      "needs_background": "light"
     },
     "output_type": "display_data"
    }
   ],
   "source": [
    "# Plot outputs\n",
    "plt.figure(figsize=(16, 8))\n",
    "plt.scatter(X_test_1, y_test,  color='black')\n",
    "# The values in X_test_1 are not in order. We need to sort them before plotting\n",
    "xs, ys = zip(*sorted(zip(X_test_1, pred_3)))\n",
    "plt.plot(xs, ys, color='blue', linewidth=3)\n",
    "\n",
    "plt.xlabel(\"Money spent on TV ads (£)\",fontsize=18)\n",
    "plt.ylabel(\"Sales (£)\",fontsize=18)\n",
    "\n",
    "plt.show()"
   ]
  },
  {
   "cell_type": "markdown",
   "metadata": {},
   "source": [
    "These error rates are 0.01548 and 0.01543, respectively. If we choose a different training set instead, then we will obtain somewhat different errors on the validation set. We can test this out by setting a different random seed:"
   ]
  },
  {
   "cell_type": "code",
   "execution_count": 163,
   "metadata": {},
   "outputs": [
    {
     "name": "stdout",
     "output_type": "stream",
     "text": [
      "0.015485860634487114\n",
      "0.015480236270248582\n",
      "0.015434689658162805\n"
     ]
    }
   ],
   "source": [
    "X_train, X_test, y_train, y_test = train_test_split(predictors, target, test_size = 0.3, random_state = 101)\n",
    "X_train_1 = X_train[:,1].reshape(-1,1)\n",
    "X_test_1 = X_test[:,1].reshape(-1,1)\n",
    "\n",
    "# Linear\n",
    "model = lm.fit(X_train_1, y_train)\n",
    "print(mean_squared_error(y_test, model.predict(X_test_1)))\n",
    "\n",
    "# Quadratic\n",
    "poly = PolynomialFeatures(degree=2)\n",
    "X_train_2 = poly.fit_transform(X_train_1)\n",
    "X_test_2 = poly.fit_transform(X_test_1)\n",
    "\n",
    "model = lm.fit(X_train_2, y_train)\n",
    "print(mean_squared_error(y_test, model.predict(X_test_2)))\n",
    "\n",
    "# Cubic\n",
    "poly = PolynomialFeatures(degree=3)\n",
    "X_train_3 = poly.fit_transform(X_train_1)\n",
    "X_test_3 = poly.fit_transform(X_test_1)\n",
    "\n",
    "model = lm.fit(X_train_3, y_train)\n",
    "print(mean_squared_error(y_test, model.predict(X_test_3)))"
   ]
  },
  {
   "cell_type": "markdown",
   "metadata": {},
   "source": [
    "We can see here that values change with different splits"
   ]
  },
  {
   "cell_type": "markdown",
   "metadata": {},
   "source": [
    "## Leave-One-Out Cross-Validation\n",
    "The LOO-CV estimate can be automatically computed for any generalised linear model using the **LeaveOneOut()** and **cross_val_score()** functions."
   ]
  },
  {
   "cell_type": "code",
   "execution_count": 164,
   "metadata": {},
   "outputs": [],
   "source": [
    "# We are going to import a couple of new libraries\n",
    "from sklearn.model_selection import LeaveOneOut\n",
    "from sklearn.model_selection import cross_val_score\n",
    "# This library will be used for the k-Fold cross validation\n",
    "from sklearn.model_selection import KFold"
   ]
  },
  {
   "cell_type": "markdown",
   "metadata": {},
   "source": [
    "We need to use our original dataset again, but with only one predictor for visualisation purposes\n",
    "we select predictor 1  (TV ads) to define the model for training and testing. \n",
    "For that, we need to reshape them to have only one column"
   ]
  },
  {
   "cell_type": "code",
   "execution_count": 165,
   "metadata": {},
   "outputs": [],
   "source": [
    "X_predictors = predictors[:,1].reshape(-1,1)\n",
    "y_target = target.reshape(-1,1)"
   ]
  },
  {
   "cell_type": "code",
   "execution_count": 166,
   "metadata": {},
   "outputs": [
    {
     "name": "stdout",
     "output_type": "stream",
     "text": [
      "Predictors dimension:  (199, 1)\n",
      "Target dimension:  (199, 1)\n"
     ]
    }
   ],
   "source": [
    "# Now we check dimensions\n",
    "print('Predictors dimension: ', X_predictors.shape)\n",
    "print('Target dimension: ', y_target.shape)"
   ]
  },
  {
   "cell_type": "markdown",
   "metadata": {},
   "source": [
    "**LeaveOneOut()** provides train/test indices to split data in train test sets. Each sample is used once as a test set, while the remaining samples form the training set. Remember that due to the high number of test sets (which is the same as the number of samples) this cross validation method can be very costly.\n",
    "![LOO-CV](img/loocv1.png)"
   ]
  },
  {
   "cell_type": "code",
   "execution_count": 167,
   "metadata": {},
   "outputs": [],
   "source": [
    "# create loocv procedure\n",
    "loo = LeaveOneOut()"
   ]
  },
  {
   "cell_type": "code",
   "execution_count": 168,
   "metadata": {},
   "outputs": [],
   "source": [
    "# calculate the number of splits\n",
    "n_splits = loo.get_n_splits(X_predictors)"
   ]
  },
  {
   "cell_type": "code",
   "execution_count": 169,
   "metadata": {},
   "outputs": [
    {
     "name": "stdout",
     "output_type": "stream",
     "text": [
      "Number of samples in our training set:  199\n",
      "Number of splits:  199\n"
     ]
    }
   ],
   "source": [
    "# Now, we are going to ckeck if the number of splits is equal to the number of samples in our training set\n",
    "print('Number of samples in our training set: ', X_predictors.shape[0])\n",
    "print('Number of splits: ', n_splits)"
   ]
  },
  {
   "cell_type": "markdown",
   "metadata": {},
   "source": [
    "Now we use **cross_val_score()** to calculate the 199 scores/performances generated by fitting 199 times the model to the different sets of data"
   ]
  },
  {
   "cell_type": "code",
   "execution_count": 170,
   "metadata": {},
   "outputs": [],
   "source": [
    "scores = cross_val_score(lm, X_predictors, y_target, scoring=\"neg_mean_squared_error\", cv=loo)"
   ]
  },
  {
   "cell_type": "code",
   "execution_count": 171,
   "metadata": {},
   "outputs": [
    {
     "name": "stdout",
     "output_type": "stream",
     "text": [
      "(199,)\n"
     ]
    }
   ],
   "source": [
    "# We check the dimensions of our score vector\n",
    "print(scores.shape)"
   ]
  },
  {
   "cell_type": "code",
   "execution_count": 172,
   "metadata": {},
   "outputs": [
    {
     "name": "stdout",
     "output_type": "stream",
     "text": [
      "Folds: 199, MSE: 0.016598358567171487, STD: 0.022266940530808865\n"
     ]
    }
   ],
   "source": [
    "# For the performance, we report the mean and the standard deviation generated by the 199 performances\n",
    "print(\"Folds: \" + str(len(scores)) + \", MSE: \" + str(np.mean(np.abs(scores))) + \", STD: \" + str(np.std(scores)))"
   ]
  },
  {
   "cell_type": "markdown",
   "metadata": {},
   "source": [
    "We can repeat this procedure for increasingly complex polynomial fits.\n",
    "To automate the process, we use the `for()` function to initiate a for loop\n",
    "which iteratively fits polynomial regressions for polynomials of order `i = 1`\n",
    "to `i = 5` and computes the associated cross-validation error. \n",
    "\n",
    "This command may take a couple of minutes to run."
   ]
  },
  {
   "cell_type": "code",
   "execution_count": 183,
   "metadata": {},
   "outputs": [
    {
     "name": "stdout",
     "output_type": "stream",
     "text": [
      "Degree-1 polynomial MSE: 0.004616325321530807, STD: 0.010817750662548548\n",
      "Degree-2 polynomial MSE: 0.0006880227070699672, STD: 0.00310958529173024\n",
      "Degree-3 polynomial MSE: 0.0015738627498580538, STD: 0.004374694879505924\n",
      "Degree-4 polynomial MSE: 0.0035991005377766705, STD: 0.02627398952443594\n",
      "Degree-5 polynomial MSE: 0.01466487384018838, STD: 0.1134544446713741\n"
     ]
    }
   ],
   "source": [
    "for i in range(1,6):\n",
    "    poly = PolynomialFeatures(degree=i)\n",
    "    X_current = poly.fit_transform(predictors)\n",
    "    model = lm.fit(X_current, target)\n",
    "    scores = cross_val_score(model, X_current, target, scoring=\"neg_mean_squared_error\", cv=loo)\n",
    "    \n",
    "    print(\"Degree-\"+str(i)+\" polynomial MSE: \" + str(np.mean(np.abs(scores))) + \", STD: \" + str(np.std(scores)))"
   ]
  },
  {
   "cell_type": "markdown",
   "metadata": {},
   "source": [
    "Here we see a sharp drop in the estimated test MSE between the linear and quadratic fits, but then no clear improvement from using higher-order polynomials."
   ]
  },
  {
   "cell_type": "markdown",
   "metadata": {},
   "source": [
    "## k-Fold Cross-Validation\n",
    "\n",
    "The **KFold** function will be used to implement `k`-fold CV. Below we use `k = 10`, a common choice for `k` on the same dataset. "
   ]
  },
  {
   "cell_type": "code",
   "execution_count": 180,
   "metadata": {},
   "outputs": [],
   "source": [
    "# this time we create a k-fold cross-validation procedure\n",
    "crossvalidation = KFold(n_splits=10, random_state=None, shuffle=False)"
   ]
  },
  {
   "cell_type": "code",
   "execution_count": 181,
   "metadata": {},
   "outputs": [],
   "source": [
    "# same procedure but using our cross-validation procedure\n",
    "scores = cross_val_score(lm, X_predictors, y_target, scoring=\"neg_mean_squared_error\", cv=crossvalidation)"
   ]
  },
  {
   "cell_type": "code",
   "execution_count": 182,
   "metadata": {},
   "outputs": [
    {
     "name": "stdout",
     "output_type": "stream",
     "text": [
      "Folds: 10, MSE: 0.01666163430640601, STD: 0.0047133709196852495\n"
     ]
    }
   ],
   "source": [
    "# For the performance, again we report the mean and the standard deviation generated by the 199 performances\n",
    "print(\"Folds: \" + str(len(scores)) + \", MSE: \" + str(np.mean(np.abs(scores))) + \", STD: \" + str(np.std(scores)))"
   ]
  },
  {
   "cell_type": "code",
   "execution_count": 184,
   "metadata": {},
   "outputs": [
    {
     "name": "stdout",
     "output_type": "stream",
     "text": [
      "Degree-1 polynomial MSE: 0.004858444029913402, STD: 0.0028426793908926298\n",
      "Degree-2 polynomial MSE: 0.0007184601015408252, STD: 0.0006773232856457683\n",
      "Degree-3 polynomial MSE: 0.0023940037417987756, STD: 0.00265307120622141\n",
      "Degree-4 polynomial MSE: 0.0051888167447281955, STD: 0.006486758662750657\n",
      "Degree-5 polynomial MSE: 0.05320624530810718, STD: 0.10451428171518717\n",
      "Degree-6 polynomial MSE: 2.7624491650450227, STD: 6.862968280643708\n",
      "Degree-7 polynomial MSE: 3.65398524040843, STD: 9.612681543521452\n",
      "Degree-8 polynomial MSE: 3.8740915619656633, STD: 9.975768245452747\n",
      "Degree-9 polynomial MSE: 3.5952737872674687, STD: 8.690125739713125\n",
      "Degree-10 polynomial MSE: 3.108514019865827, STD: 6.704561326924152\n"
     ]
    }
   ],
   "source": [
    "for i in range(1,11):\n",
    "    poly = PolynomialFeatures(degree=i)\n",
    "    X_current = poly.fit_transform(predictors)\n",
    "    model = lm.fit(X_current, target)\n",
    "    scores = cross_val_score(model, X_current, target, scoring=\"neg_mean_squared_error\", cv=crossvalidation,\n",
    " n_jobs=1)\n",
    "    \n",
    "    print(\"Degree-\"+str(i)+\" polynomial MSE: \" + str(np.mean(np.abs(scores))) + \", STD: \" + str(np.std(scores)))"
   ]
  },
  {
   "cell_type": "markdown",
   "metadata": {},
   "source": [
    "We still see little evidence that using cubic or higher-order polynomial terms leads to lower test error than simply using a quadratic fit."
   ]
  }
 ],
 "metadata": {
  "kernelspec": {
   "display_name": "Python 3",
   "language": "python",
   "name": "python3"
  },
  "language_info": {
   "codemirror_mode": {
    "name": "ipython",
    "version": 3
   },
   "file_extension": ".py",
   "mimetype": "text/x-python",
   "name": "python",
   "nbconvert_exporter": "python",
   "pygments_lexer": "ipython3",
   "version": "3.7.7"
  }
 },
 "nbformat": 4,
 "nbformat_minor": 4
}
